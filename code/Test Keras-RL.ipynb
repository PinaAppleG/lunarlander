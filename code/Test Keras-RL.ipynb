{
 "cells": [
  {
   "cell_type": "code",
   "execution_count": 1,
   "metadata": {
    "collapsed": false
   },
   "outputs": [
    {
     "name": "stderr",
     "output_type": "stream",
     "text": [
      "Using TensorFlow backend.\n"
     ]
    }
   ],
   "source": [
    "import numpy as np\n",
    "import matplotlib.pyplot as plt\n",
    "import gym\n",
    "\n",
    "from keras.models import Sequential\n",
    "from keras.layers import Dense, Activation, Flatten, Convolution2D\n",
    "from keras.optimizers import Adam, SGD\n",
    "\n",
    "from rl.agents.dqn import DQNAgent\n",
    "from rl.policy import EpsGreedyQPolicy\n",
    "from rl.memory import SequentialMemory\n",
    "from rl.callbacks import Callback\n",
    "import random\n"
   ]
  },
  {
   "cell_type": "code",
   "execution_count": 2,
   "metadata": {
    "collapsed": false
   },
   "outputs": [
    {
     "name": "stderr",
     "output_type": "stream",
     "text": [
      "[2017-01-10 22:31:02,491] Making new env: LunarLander-v2\n"
     ]
    }
   ],
   "source": [
    "ENV_NAME = 'LunarLander-v2'\n",
    "\n",
    "env = gym.make(ENV_NAME)"
   ]
  },
  {
   "cell_type": "code",
   "execution_count": 3,
   "metadata": {
    "collapsed": false,
    "scrolled": false
   },
   "outputs": [
    {
     "name": "stdout",
     "output_type": "stream",
     "text": [
      "____________________________________________________________________________________________________\n",
      "Layer (type)                     Output Shape          Param #     Connected to                     \n",
      "====================================================================================================\n",
      "flatten_2 (Flatten)              (None, 8)             0           flatten_input_2[0][0]            \n",
      "____________________________________________________________________________________________________\n",
      "dense_4 (Dense)                  (None, 40)            360         flatten_2[0][0]                  \n",
      "____________________________________________________________________________________________________\n",
      "activation_4 (Activation)        (None, 40)            0           dense_4[0][0]                    \n",
      "____________________________________________________________________________________________________\n",
      "dense_5 (Dense)                  (None, 40)            1640        activation_4[0][0]               \n",
      "____________________________________________________________________________________________________\n",
      "activation_5 (Activation)        (None, 40)            0           dense_5[0][0]                    \n",
      "____________________________________________________________________________________________________\n",
      "dense_6 (Dense)                  (None, 256)           10496       activation_5[0][0]               \n",
      "____________________________________________________________________________________________________\n",
      "dense_7 (Dense)                  (None, 4)             1028        dense_6[0][0]                    \n",
      "====================================================================================================\n",
      "Total params: 13,524\n",
      "Trainable params: 13,524\n",
      "Non-trainable params: 0\n",
      "____________________________________________________________________________________________________\n"
     ]
    }
   ],
   "source": [
    "nb_actions = env.action_space.n\n",
    "nb_frames = 4\n",
    "height = 100\n",
    "width = 100\n",
    "\n",
    "HIDDEN_SIZE = 256\n",
    "LEARNING_RATE = LEARNING_RATE = 0.000001\n",
    "MEMORY_SIZE = 200  # CHANGE TO BIGGER VALUE BEFORE RUNNING\n",
    "BATCH_SIZE = 32  # CHANGE TO BIGGER VALUE BEFORE RUNNING\n",
    "GAMMA = 0.95\n",
    "TAU = 0.001\n",
    "\n",
    "model = Sequential()\n",
    "model.add(Flatten(input_shape=(1,) + env.observation_space.shape))\n",
    "model.add(Dense(40))\n",
    "model.add(Activation('relu'))\n",
    "model.add(Dense(40))\n",
    "model.add(Activation('relu'))\n",
    "model.add(Dense(nb_actions))\n",
    "model.add(Activation('linear'))\n",
    "#print(model.summary())\n",
    "\n",
    "\n",
    "model = Sequential()\n",
    "model.add(Flatten(input_shape=(1,) + env.observation_space.shape))\n",
    "model.add(Dense(40))\n",
    "model.add(Activation('relu'))\n",
    "model.add(Dense(40))\n",
    "model.add(Activation('relu'))\n",
    "model.add(Dense(HIDDEN_SIZE, activation='relu'))\n",
    "model.add(Dense(nb_actions))\n",
    "sgd = SGD(lr=LEARNING_RATE)\n",
    "model.summary()"
   ]
  },
  {
   "cell_type": "code",
   "execution_count": 4,
   "metadata": {
    "collapsed": true
   },
   "outputs": [],
   "source": [
    "memory = SequentialMemory(limit=500000, window_length=1)\n",
    "policy = EpsGreedyQPolicy(eps=1.0)"
   ]
  },
  {
   "cell_type": "code",
   "execution_count": 5,
   "metadata": {
    "collapsed": false
   },
   "outputs": [],
   "source": [
    "class EpsDecayCallback(Callback):\n",
    "    def __init__(self, eps_poilcy, decay_rate=0.95):\n",
    "        self.eps_poilcy = eps_poilcy\n",
    "        self.decay_rate = decay_rate\n",
    "    def on_episode_begin(self, episode, logs={}):\n",
    "        self.eps_poilcy.eps *= self.decay_rate\n",
    "        print('eps = %s' % self.eps_poilcy.eps)"
   ]
  },
  {
   "cell_type": "code",
   "execution_count": 6,
   "metadata": {
    "collapsed": true
   },
   "outputs": [],
   "source": [
    "class LivePlotCallback(Callback):\n",
    "    def __init__(self, nb_episodes=4000, avgwindow=20):\n",
    "        self.rewards = np.zeros(nb_episodes) - 1000.0\n",
    "        self.X = np.arange(1, nb_episodes+1)\n",
    "        self.avgrewards = np.zeros(nb_episodes) - 1000.0\n",
    "        self.avgwindow = avgwindow\n",
    "        self.rewardbuf = []\n",
    "        self.episode = 0\n",
    "        self.nb_episodes = nb_episodes\n",
    "        plt.ion()\n",
    "        self.fig = plt.figure()\n",
    "        self.grphinst = plt.plot(self.X, self.rewards, color='b')[0]\n",
    "        self.grphavg  = plt.plot(self.X, self.avgrewards, color='r')[0]\n",
    "        plt.ylim([-450.0, 350.0])\n",
    "        plt.xlabel('Episodes')\n",
    "        plt.legend([self.grphinst, self.grphavg], ['Episode rewards', '20-episode-average-rewards'])\n",
    "        plt.grid(b=True, which='major', color='k', linestyle='-')\n",
    "        plt.minorticks_on()\n",
    "        plt.grid(b=True, which='minor', color='k', linestyle='--')\n",
    "\n",
    "    def __del__(self):\n",
    "        self.fig.savefig('monitor/plot.png')\n",
    "        \n",
    "    def on_episode_end(self, episode, logs):\n",
    "        if self.episode >= self.nb_episodes:\n",
    "            return\n",
    "        rw = logs['episode_reward']\n",
    "        self.rewardbuf.append(rw)\n",
    "        if len(self.rewardbuf) > self.avgwindow:\n",
    "            del self.rewardbuf[0]\n",
    "        self.rewards[self.episode] = rw\n",
    "        self.avgrewards[self.episode] = np.mean(self.rewardbuf)\n",
    "        self.plot()\n",
    "        self.episode += 1\n",
    "    def plot(self):\n",
    "        self.grphinst.set_ydata(self.rewards)\n",
    "        self.grphavg.set_ydata(self.avgrewards)\n",
    "        plt.draw()\n",
    "        plt.pause(0.01)"
   ]
  },
  {
   "cell_type": "code",
   "execution_count": 7,
   "metadata": {
    "collapsed": false
   },
   "outputs": [],
   "source": [
    "dqn = DQNAgent(model=model, nb_actions=nb_actions, memory=memory, nb_steps_warmup=10,\n",
    "               target_model_update=1e-2, policy=policy, enable_double_dqn=False)\n",
    "#dqn.compile(Adam(lr=0.002, decay=2.25e-05), metrics=['mse'])\n",
    "dqn.compile(sgd, metrics=['mse'])"
   ]
  },
  {
   "cell_type": "code",
   "execution_count": 8,
   "metadata": {
    "collapsed": false,
    "scrolled": true
   },
   "outputs": [
    {
     "name": "stdout",
     "output_type": "stream",
     "text": [
      "Training for 1000 steps ...\n",
      "eps = 0.975\n"
     ]
    },
    {
     "name": "stderr",
     "output_type": "stream",
     "text": [
      "/Users/ilyes/anaconda/lib/python3.5/site-packages/keras_rl-0.2.0rc1-py3.5.egg/rl/memory.py:29: UserWarning: Not enough entries to sample without replacement. Consider increasing your warm-up phase to avoid oversampling!\n",
      "  warnings.warn('Not enough entries to sample without replacement. Consider increasing your warm-up phase to avoid oversampling!')\n"
     ]
    },
    {
     "name": "stdout",
     "output_type": "stream",
     "text": [
      "  84/1000: episode: 1, duration: 3.326s, episode steps: 84, steps per second: 25, episode reward: -205.191, mean reward: -2.443 [-100.000, 9.072], mean action: 1.560 [0.000, 3.000], mean observation: -0.082 [-1.431, 1.000], loss: 1.704885, mean_squared_error: 0.854462, mean_q: 0.097887\n",
      "eps = 0.9506249999999999\n",
      " 177/1000: episode: 2, duration: 1.308s, episode steps: 93, steps per second: 71, episode reward: -160.474, mean reward: -1.726 [-100.000, 6.415], mean action: 1.473 [0.000, 3.000], mean observation: -0.101 [-5.654, 1.000], loss: 52.461761, mean_squared_error: 26.233131, mean_q: 0.095220\n",
      "eps = 0.9268593749999999\n",
      " 313/1000: episode: 3, duration: 1.823s, episode steps: 136, steps per second: 75, episode reward: -93.359, mean reward: -0.686 [-100.000, 52.981], mean action: 1.485 [0.000, 3.000], mean observation: 0.173 [-1.588, 2.070], loss: 40.263840, mean_squared_error: 20.133696, mean_q: 0.075567\n",
      "eps = 0.9036878906249999\n",
      " 405/1000: episode: 4, duration: 1.243s, episode steps: 92, steps per second: 74, episode reward: -404.455, mean reward: -4.396 [-100.000, 2.466], mean action: 1.402 [0.000, 3.000], mean observation: 0.046 [-3.558, 1.648], loss: 46.806713, mean_squared_error: 23.405064, mean_q: 0.069511\n",
      "eps = 0.8810956933593749\n",
      " 497/1000: episode: 5, duration: 0.829s, episode steps: 92, steps per second: 111, episode reward: -275.880, mean reward: -2.999 [-100.000, 19.797], mean action: 1.446 [0.000, 3.000], mean observation: 0.101 [-1.557, 6.296], loss: 57.472248, mean_squared_error: 28.737949, mean_q: 0.073482\n",
      "eps = 0.8590683010253904\n",
      " 591/1000: episode: 6, duration: 0.751s, episode steps: 94, steps per second: 125, episode reward: -476.606, mean reward: -5.070 [-100.000, 1.433], mean action: 1.394 [0.000, 3.000], mean observation: 0.035 [-1.716, 2.325], loss: 50.077549, mean_squared_error: 25.040724, mean_q: 0.075406\n",
      "eps = 0.8375915934997556\n",
      " 663/1000: episode: 7, duration: 0.584s, episode steps: 72, steps per second: 123, episode reward: -286.750, mean reward: -3.983 [-100.000, 25.289], mean action: 1.097 [0.000, 3.000], mean observation: 0.086 [-1.753, 4.961], loss: 52.657227, mean_squared_error: 26.330667, mean_q: 0.079722\n",
      "eps = 0.8166518036622618\n",
      " 718/1000: episode: 8, duration: 0.461s, episode steps: 55, steps per second: 119, episode reward: -149.042, mean reward: -2.710 [-100.000, 12.487], mean action: 1.309 [0.000, 3.000], mean observation: 0.024 [-1.653, 5.645], loss: 68.212914, mean_squared_error: 34.108521, mean_q: 0.077584\n",
      "eps = 0.7962355085707052\n",
      " 800/1000: episode: 9, duration: 0.981s, episode steps: 82, steps per second: 84, episode reward: -158.183, mean reward: -1.929 [-100.000, 9.331], mean action: 1.329 [0.000, 3.000], mean observation: 0.050 [-4.530, 1.000], loss: 71.467407, mean_squared_error: 35.735706, mean_q: 0.074336\n",
      "eps = 0.7763296208564376\n",
      " 878/1000: episode: 10, duration: 0.957s, episode steps: 78, steps per second: 82, episode reward: -274.703, mean reward: -3.522 [-100.000, 28.678], mean action: 1.218 [0.000, 3.000], mean observation: 0.010 [-1.470, 4.644], loss: 62.418056, mean_squared_error: 31.210962, mean_q: 0.073196\n",
      "eps = 0.7569213803350267\n",
      " 962/1000: episode: 11, duration: 0.799s, episode steps: 84, steps per second: 105, episode reward: -489.007, mean reward: -5.822 [-100.000, 1.650], mean action: 1.429 [0.000, 3.000], mean observation: 0.070 [-1.800, 7.348], loss: 64.038002, mean_squared_error: 32.021008, mean_q: 0.075121\n",
      "eps = 0.7379983458266509\n",
      "done, took 13.563 seconds\n"
     ]
    },
    {
     "data": {
      "text/plain": [
       "<keras.callbacks.History at 0x116bab7b8>"
      ]
     },
     "execution_count": 8,
     "metadata": {},
     "output_type": "execute_result"
    },
    {
     "data": {
      "image/png": "[encoded data removed]",
      "text/plain": [
       "<matplotlib.figure.Figure at 0x116b27f98>"
      ]
     },
     "metadata": {},
     "output_type": "display_data"
    }
   ],
   "source": [
    "cbs = [EpsDecayCallback(eps_poilcy=policy, decay_rate=0.975)]\n",
    "cbs += [LivePlotCallback(nb_episodes=4000, avgwindow=20)]\n",
    "dqn.fit(env, nb_steps=1000, visualize=False, verbose=2, callbacks=cbs)"
   ]
  },
  {
   "cell_type": "code",
   "execution_count": 9,
   "metadata": {
    "collapsed": false,
    "scrolled": true
   },
   "outputs": [
    {
     "name": "stdout",
     "output_type": "stream",
     "text": [
      "Testing for 100 episodes ...\n",
      "Episode 1: reward: -307.101, steps: 69\n",
      "Episode 2: reward: -332.473, steps: 105\n",
      "Episode 3: reward: -406.065, steps: 100\n",
      "Episode 4: reward: -419.932, steps: 59\n",
      "Episode 5: reward: -439.230, steps: 111\n",
      "Episode 6: reward: -378.687, steps: 72\n",
      "Episode 7: reward: -250.369, steps: 75\n",
      "Episode 8: reward: -379.289, steps: 85\n",
      "Episode 9: reward: -126.165, steps: 58\n",
      "Episode 10: reward: -146.381, steps: 65\n",
      "Episode 11: reward: -632.130, steps: 93\n",
      "Episode 12: reward: -432.207, steps: 85\n",
      "Episode 13: reward: -143.921, steps: 76\n",
      "Episode 14: reward: -273.386, steps: 113\n",
      "Episode 15: reward: -575.533, steps: 84\n",
      "Episode 16: reward: -314.721, steps: 75\n",
      "Episode 17: reward: -555.047, steps: 105\n",
      "Episode 18: reward: -397.607, steps: 81\n",
      "Episode 19: reward: -469.168, steps: 105\n",
      "Episode 20: reward: -501.476, steps: 81\n",
      "Episode 21: reward: -457.863, steps: 83\n",
      "Episode 22: reward: -409.458, steps: 63\n",
      "Episode 23: reward: -461.648, steps: 78\n",
      "Episode 24: reward: -380.533, steps: 73\n",
      "Episode 25: reward: -330.504, steps: 89\n",
      "Episode 26: reward: -415.304, steps: 92\n",
      "Episode 27: reward: -476.473, steps: 108\n",
      "Episode 28: reward: -545.915, steps: 81\n",
      "Episode 29: reward: -323.258, steps: 89\n",
      "Episode 30: reward: -318.644, steps: 64\n",
      "Episode 31: reward: -225.865, steps: 70\n",
      "Episode 32: reward: -364.088, steps: 85\n",
      "Episode 33: reward: -374.118, steps: 98\n",
      "Episode 34: reward: -547.498, steps: 90\n",
      "Episode 35: reward: -279.136, steps: 73\n",
      "Episode 36: reward: -314.968, steps: 65\n",
      "Episode 37: reward: -71.156, steps: 105\n",
      "Episode 38: reward: -286.349, steps: 65\n",
      "Episode 39: reward: -359.278, steps: 93\n",
      "Episode 40: reward: -278.912, steps: 54\n",
      "Episode 41: reward: -425.519, steps: 82\n",
      "Episode 42: reward: -511.097, steps: 73\n",
      "Episode 43: reward: -278.463, steps: 64\n",
      "Episode 44: reward: -337.093, steps: 62\n",
      "Episode 45: reward: -432.188, steps: 75\n",
      "Episode 46: reward: -245.502, steps: 116\n",
      "Episode 47: reward: -671.763, steps: 102\n",
      "Episode 48: reward: -517.956, steps: 94\n",
      "Episode 49: reward: -527.361, steps: 94\n",
      "Episode 50: reward: -283.796, steps: 70\n",
      "Episode 51: reward: -419.179, steps: 95\n",
      "Episode 52: reward: -160.757, steps: 69\n",
      "Episode 53: reward: -172.605, steps: 62\n",
      "Episode 54: reward: -453.896, steps: 77\n",
      "Episode 55: reward: -326.428, steps: 95\n",
      "Episode 56: reward: -404.882, steps: 61\n",
      "Episode 57: reward: -89.716, steps: 106\n",
      "Episode 58: reward: -391.754, steps: 77\n",
      "Episode 59: reward: -186.351, steps: 74\n",
      "Episode 60: reward: -41.097, steps: 92\n",
      "Episode 61: reward: -285.980, steps: 87\n",
      "Episode 62: reward: -582.253, steps: 84\n",
      "Episode 63: reward: -521.878, steps: 94\n",
      "Episode 64: reward: -454.448, steps: 71\n",
      "Episode 65: reward: -393.199, steps: 84\n",
      "Episode 66: reward: -223.382, steps: 63\n",
      "Episode 67: reward: -340.306, steps: 98\n",
      "Episode 68: reward: -134.435, steps: 63\n",
      "Episode 69: reward: -484.861, steps: 95\n",
      "Episode 70: reward: -135.911, steps: 72\n",
      "Episode 71: reward: -559.539, steps: 100\n",
      "Episode 72: reward: -233.707, steps: 58\n",
      "Episode 73: reward: -293.467, steps: 98\n",
      "Episode 74: reward: -550.109, steps: 85\n",
      "Episode 75: reward: -338.809, steps: 107\n",
      "Episode 76: reward: -525.806, steps: 108\n",
      "Episode 77: reward: -284.493, steps: 65\n",
      "Episode 78: reward: -142.925, steps: 60\n",
      "Episode 79: reward: -426.452, steps: 81\n",
      "Episode 80: reward: -471.624, steps: 96\n",
      "Episode 81: reward: -646.118, steps: 104\n",
      "Episode 82: reward: -163.893, steps: 66\n",
      "Episode 83: reward: -396.562, steps: 84\n",
      "Episode 84: reward: -354.403, steps: 82\n",
      "Episode 85: reward: -160.905, steps: 63\n",
      "Episode 86: reward: -161.478, steps: 70\n",
      "Episode 87: reward: -215.402, steps: 62\n",
      "Episode 88: reward: -394.940, steps: 101\n",
      "Episode 89: reward: -186.721, steps: 76\n",
      "Episode 90: reward: -250.773, steps: 63\n",
      "Episode 91: reward: -373.870, steps: 65\n",
      "Episode 92: reward: -326.324, steps: 94\n",
      "Episode 93: reward: -411.489, steps: 77\n",
      "Episode 94: reward: -376.675, steps: 76\n",
      "Episode 95: reward: -373.600, steps: 68\n",
      "Episode 96: reward: -528.102, steps: 97\n",
      "Episode 97: reward: -139.674, steps: 69\n",
      "Episode 98: reward: -296.322, steps: 76\n",
      "Episode 99: reward: -407.833, steps: 75\n",
      "Episode 100: reward: -301.233, steps: 70\n"
     ]
    },
    {
     "data": {
      "text/plain": [
       "<keras.callbacks.History at 0x116b62be0>"
      ]
     },
     "execution_count": 9,
     "metadata": {},
     "output_type": "execute_result"
    }
   ],
   "source": [
    "# evaluate the algorithm for 100 episodes.\n",
    "dqn.test(env, nb_episodes=100, visualize=True)"
   ]
  },
  {
   "cell_type": "code",
   "execution_count": 10,
   "metadata": {
    "collapsed": false,
    "scrolled": false
   },
   "outputs": [
    {
     "data": {
      "text/plain": [
       "{'batch_size': 32,\n",
       " 'delta_clip': inf,\n",
       " 'enable_double_dqn': False,\n",
       " 'gamma': 0.99,\n",
       " 'memory': {'class_name': 'SequentialMemory',\n",
       "  'config': {'ignore_episode_boundaries': False,\n",
       "   'limit': 500000,\n",
       "   'window_length': 1}},\n",
       " 'memory_interval': 1,\n",
       " 'model': {'class_name': 'Sequential',\n",
       "  'config': [{'class_name': 'Flatten',\n",
       "    'config': {'batch_input_shape': (None, 1, 8),\n",
       "     'input_dtype': 'float32',\n",
       "     'name': 'flatten_2',\n",
       "     'trainable': True}},\n",
       "   {'class_name': 'Dense',\n",
       "    'config': {'W_constraint': None,\n",
       "     'W_regularizer': None,\n",
       "     'activation': 'linear',\n",
       "     'activity_regularizer': None,\n",
       "     'b_constraint': None,\n",
       "     'b_regularizer': None,\n",
       "     'bias': True,\n",
       "     'init': 'glorot_uniform',\n",
       "     'input_dim': 8,\n",
       "     'name': 'dense_4',\n",
       "     'output_dim': 40,\n",
       "     'trainable': True}},\n",
       "   {'class_name': 'Activation',\n",
       "    'config': {'activation': 'relu',\n",
       "     'name': 'activation_4',\n",
       "     'trainable': True}},\n",
       "   {'class_name': 'Dense',\n",
       "    'config': {'W_constraint': None,\n",
       "     'W_regularizer': None,\n",
       "     'activation': 'linear',\n",
       "     'activity_regularizer': None,\n",
       "     'b_constraint': None,\n",
       "     'b_regularizer': None,\n",
       "     'bias': True,\n",
       "     'init': 'glorot_uniform',\n",
       "     'input_dim': 40,\n",
       "     'name': 'dense_5',\n",
       "     'output_dim': 40,\n",
       "     'trainable': True}},\n",
       "   {'class_name': 'Activation',\n",
       "    'config': {'activation': 'relu',\n",
       "     'name': 'activation_5',\n",
       "     'trainable': True}},\n",
       "   {'class_name': 'Dense',\n",
       "    'config': {'W_constraint': None,\n",
       "     'W_regularizer': None,\n",
       "     'activation': 'relu',\n",
       "     'activity_regularizer': None,\n",
       "     'b_constraint': None,\n",
       "     'b_regularizer': None,\n",
       "     'bias': True,\n",
       "     'init': 'glorot_uniform',\n",
       "     'input_dim': 40,\n",
       "     'name': 'dense_6',\n",
       "     'output_dim': 256,\n",
       "     'trainable': True}},\n",
       "   {'class_name': 'Dense',\n",
       "    'config': {'W_constraint': None,\n",
       "     'W_regularizer': None,\n",
       "     'activation': 'linear',\n",
       "     'activity_regularizer': None,\n",
       "     'b_constraint': None,\n",
       "     'b_regularizer': None,\n",
       "     'bias': True,\n",
       "     'init': 'glorot_uniform',\n",
       "     'input_dim': 256,\n",
       "     'name': 'dense_7',\n",
       "     'output_dim': 4,\n",
       "     'trainable': True}}]},\n",
       " 'nb_actions': 4,\n",
       " 'nb_steps_warmup': 10,\n",
       " 'policy': {'class_name': 'EpsGreedyQPolicy',\n",
       "  'config': {'eps': 0.7379983458266509}},\n",
       " 'target_model': {'class_name': 'Sequential',\n",
       "  'config': [{'class_name': 'Flatten',\n",
       "    'config': {'batch_input_shape': (None, 1, 8),\n",
       "     'input_dtype': 'float32',\n",
       "     'name': 'flatten_2',\n",
       "     'trainable': True}},\n",
       "   {'class_name': 'Dense',\n",
       "    'config': {'W_constraint': None,\n",
       "     'W_regularizer': None,\n",
       "     'activation': 'linear',\n",
       "     'activity_regularizer': None,\n",
       "     'b_constraint': None,\n",
       "     'b_regularizer': None,\n",
       "     'batch_input_shape': (None, 8),\n",
       "     'bias': True,\n",
       "     'init': 'glorot_uniform',\n",
       "     'input_dim': 8,\n",
       "     'input_dtype': 'float32',\n",
       "     'name': 'dense_4',\n",
       "     'output_dim': 40,\n",
       "     'trainable': True}},\n",
       "   {'class_name': 'Activation',\n",
       "    'config': {'activation': 'relu',\n",
       "     'name': 'activation_4',\n",
       "     'trainable': True}},\n",
       "   {'class_name': 'Dense',\n",
       "    'config': {'W_constraint': None,\n",
       "     'W_regularizer': None,\n",
       "     'activation': 'linear',\n",
       "     'activity_regularizer': None,\n",
       "     'b_constraint': None,\n",
       "     'b_regularizer': None,\n",
       "     'batch_input_shape': (None, 40),\n",
       "     'bias': True,\n",
       "     'init': 'glorot_uniform',\n",
       "     'input_dim': 40,\n",
       "     'input_dtype': 'float32',\n",
       "     'name': 'dense_5',\n",
       "     'output_dim': 40,\n",
       "     'trainable': True}},\n",
       "   {'class_name': 'Activation',\n",
       "    'config': {'activation': 'relu',\n",
       "     'name': 'activation_5',\n",
       "     'trainable': True}},\n",
       "   {'class_name': 'Dense',\n",
       "    'config': {'W_constraint': None,\n",
       "     'W_regularizer': None,\n",
       "     'activation': 'relu',\n",
       "     'activity_regularizer': None,\n",
       "     'b_constraint': None,\n",
       "     'b_regularizer': None,\n",
       "     'batch_input_shape': (None, 40),\n",
       "     'bias': True,\n",
       "     'init': 'glorot_uniform',\n",
       "     'input_dim': 40,\n",
       "     'input_dtype': 'float32',\n",
       "     'name': 'dense_6',\n",
       "     'output_dim': 256,\n",
       "     'trainable': True}},\n",
       "   {'class_name': 'Dense',\n",
       "    'config': {'W_constraint': None,\n",
       "     'W_regularizer': None,\n",
       "     'activation': 'linear',\n",
       "     'activity_regularizer': None,\n",
       "     'b_constraint': None,\n",
       "     'b_regularizer': None,\n",
       "     'batch_input_shape': (None, 256),\n",
       "     'bias': True,\n",
       "     'init': 'glorot_uniform',\n",
       "     'input_dim': 256,\n",
       "     'input_dtype': 'float32',\n",
       "     'name': 'dense_7',\n",
       "     'output_dim': 4,\n",
       "     'trainable': True}}]},\n",
       " 'target_model_update': 0.01,\n",
       " 'train_interval': 1}"
      ]
     },
     "execution_count": 10,
     "metadata": {},
     "output_type": "execute_result"
    }
   ],
   "source": [
    "dqn.get_config()"
   ]
  },
  {
   "cell_type": "code",
   "execution_count": null,
   "metadata": {
    "collapsed": true
   },
   "outputs": [],
   "source": [
    "dqn."
   ]
  }
 ],
 "metadata": {
  "anaconda-cloud": {},
  "kernelspec": {
   "display_name": "Python [default]",
   "language": "python",
   "name": "python3"
  },
  "language_info": {
   "codemirror_mode": {
    "name": "ipython",
    "version": 3
   },
   "file_extension": ".py",
   "mimetype": "text/x-python",
   "name": "python",
   "nbconvert_exporter": "python",
   "pygments_lexer": "ipython3",
   "version": "3.5.2"
  }
 },
 "nbformat": 4,
 "nbformat_minor": 1
}
