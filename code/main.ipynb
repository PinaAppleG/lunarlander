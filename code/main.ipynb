{
 "cells": [
  {
   "cell_type": "markdown",
   "metadata": {},
   "source": [
    "In LunarLanderContinious there are two actions possible (values in [-1,1])\n",
    "\n",
    "- First action, main engine:\n",
    "    - [-1..0] => off\n",
    "    - [0..+1] => throttle from 50% to 100% power\n",
    "    \n",
    "- Second action\n",
    "    - [-1.0..-0.5] => fire left engine\n",
    "    - [+0.5..+1.0] => fire right engine\n",
    "    - [-0.5..0.5] => off"
   ]
  },
  {
   "cell_type": "code",
   "execution_count": 25,
   "metadata": {
    "collapsed": false
   },
   "outputs": [],
   "source": [
    "import numpy as np\n",
    "\n",
    "from keras.models import Sequential\n",
    "from keras.layers import Dense, Flatten, Convolution2D\n",
    "from keras.optimizers import sgd\n",
    "\n",
    "import gym\n",
    "\n",
    "# Custom files, please check repo\n",
    "from _util import preprocess_env, phi\n",
    "from memory import ReplayMemory"
   ]
  },
  {
   "cell_type": "markdown",
   "metadata": {},
   "source": [
    "#  Initialization of environnement"
   ]
  },
  {
   "cell_type": "code",
   "execution_count": 3,
   "metadata": {
    "collapsed": false
   },
   "outputs": [
    {
     "name": "stderr",
     "output_type": "stream",
     "text": [
      "INFO:gym.envs.registration:Making new env: LunarLanderContinuous-v2\n",
      "[2017-01-06 19:23:39,895] Making new env: LunarLanderContinuous-v2\n"
     ]
    },
    {
     "data": {
      "text/plain": [
       "array([-0.00346727,  0.93801928, -0.3512104 , -0.17295194,  0.00402447,\n",
       "        0.07955439,  0.        ,  0.        ])"
      ]
     },
     "execution_count": 3,
     "metadata": {},
     "output_type": "execute_result"
    }
   ],
   "source": [
    "env = gym.make('LunarLanderContinuous-v2')\n",
    "env.reset()"
   ]
  },
  {
   "cell_type": "markdown",
   "metadata": {},
   "source": [
    "# Define NN"
   ]
  },
  {
   "cell_type": "code",
   "execution_count": 31,
   "metadata": {
    "collapsed": false
   },
   "outputs": [
    {
     "name": "stdout",
     "output_type": "stream",
     "text": [
      "____________________________________________________________________________________________________\n",
      "Layer (type)                     Output Shape          Param #     Connected to                     \n",
      "====================================================================================================\n",
      "convolution2d_8 (Convolution2D)  (None, 8, 73, 113)    2056        convolution2d_input_4[0][0]      \n",
      "____________________________________________________________________________________________________\n",
      "convolution2d_9 (Convolution2D)  (None, 16, 70, 110)   2064        convolution2d_8[0][0]            \n",
      "____________________________________________________________________________________________________\n",
      "convolution2d_10 (Convolution2D) (None, 16, 68, 108)   2320        convolution2d_9[0][0]            \n",
      "____________________________________________________________________________________________________\n",
      "flatten_3 (Flatten)              (None, 117504)        0           convolution2d_10[0][0]           \n",
      "____________________________________________________________________________________________________\n",
      "dense_8 (Dense)                  (None, 32)            3760160     flatten_3[0][0]                  \n",
      "____________________________________________________________________________________________________\n",
      "dense_9 (Dense)                  (None, 10)            330         dense_8[0][0]                    \n",
      "====================================================================================================\n",
      "Total params: 3766930\n",
      "____________________________________________________________________________________________________\n"
     ]
    }
   ],
   "source": [
    "nb_frames = 4\n",
    "\n",
    "height = 80\n",
    "width = 120\n",
    "\n",
    "# We need to create bins for the number of actions, we have continuous values, for example here we need\n",
    "# to specify the 10 actions we want to provide. We have to rediscuss this approach because we will be limited to \n",
    "# the actions we define...\n",
    "nb_actions = 10 \n",
    "\n",
    "hidden_size = 32\n",
    "\n",
    "model = Sequential()\n",
    "model.add(Convolution2D(8,8,8,input_shape = (nb_frames, height, width)))\n",
    "model.add(Convolution2D(16,4,4))\n",
    "model.add(Convolution2D(16,3,3))\n",
    "model.add(Flatten())\n",
    "model.add(Dense(hidden_size, activation='relu'))\n",
    "model.add(Dense(nb_actions))\n",
    "\n",
    "model.compile(sgd(lr=.2), \"mse\")\n",
    "model.summary()"
   ]
  },
  {
   "cell_type": "markdown",
   "metadata": {},
   "source": [
    "# DQN with Experience replay\n",
    "- We got an issue when game finishes, the model predicts a sequence of nan...\n"
   ]
  },
  {
   "cell_type": "code",
   "execution_count": 12,
   "metadata": {
    "collapsed": true
   },
   "outputs": [],
   "source": [
    "import tqdm"
   ]
  },
  {
   "cell_type": "code",
   "execution_count": 40,
   "metadata": {
    "collapsed": false
   },
   "outputs": [
    {
     "name": "stderr",
     "output_type": "stream",
     "text": [
      " 89%|████████▉ | 89/100 [00:37<00:04,  2.37it/s]"
     ]
    },
    {
     "ename": "Exception",
     "evalue": "Error when checking model target: expected dense_9 to have shape (None, 10) but got array with shape (4, 1)",
     "output_type": "error",
     "traceback": [
      "\u001b[0;31m---------------------------------------------------------------------------\u001b[0m",
      "\u001b[0;31mException\u001b[0m                                 Traceback (most recent call last)",
      "\u001b[0;32m<ipython-input-40-b0e2c38064a8>\u001b[0m in \u001b[0;36m<module>\u001b[0;34m()\u001b[0m\n\u001b[1;32m     71\u001b[0m \u001b[0;34m\u001b[0m\u001b[0m\n\u001b[1;32m     72\u001b[0m         \u001b[0;31m#Perform a gradient descent step on (yj - Q(j ; aj ; theta))2 according to equation 3\u001b[0m\u001b[0;34m\u001b[0m\u001b[0;34m\u001b[0m\u001b[0m\n\u001b[0;32m---> 73\u001b[0;31m         \u001b[0mmodel\u001b[0m\u001b[0;34m.\u001b[0m\u001b[0mtrain_on_batch\u001b[0m\u001b[0;34m(\u001b[0m\u001b[0mx\u001b[0m\u001b[0;34m,\u001b[0m\u001b[0my\u001b[0m\u001b[0;34m)\u001b[0m\u001b[0;34m\u001b[0m\u001b[0m\n\u001b[0m",
      "\u001b[0;32m/Users/Thomas/anaconda/envs/py35/lib/python3.5/site-packages/keras/models.py\u001b[0m in \u001b[0;36mtrain_on_batch\u001b[0;34m(self, x, y, class_weight, sample_weight, **kwargs)\u001b[0m\n\u001b[1;32m    710\u001b[0m         return self.model.train_on_batch(x, y,\n\u001b[1;32m    711\u001b[0m                                          \u001b[0msample_weight\u001b[0m\u001b[0;34m=\u001b[0m\u001b[0msample_weight\u001b[0m\u001b[0;34m,\u001b[0m\u001b[0;34m\u001b[0m\u001b[0m\n\u001b[0;32m--> 712\u001b[0;31m                                          class_weight=class_weight)\n\u001b[0m\u001b[1;32m    713\u001b[0m \u001b[0;34m\u001b[0m\u001b[0m\n\u001b[1;32m    714\u001b[0m     def test_on_batch(self, x, y,\n",
      "\u001b[0;32m/Users/Thomas/anaconda/envs/py35/lib/python3.5/site-packages/keras/engine/training.py\u001b[0m in \u001b[0;36mtrain_on_batch\u001b[0;34m(self, x, y, sample_weight, class_weight)\u001b[0m\n\u001b[1;32m   1213\u001b[0m                                                            \u001b[0msample_weight\u001b[0m\u001b[0;34m=\u001b[0m\u001b[0msample_weight\u001b[0m\u001b[0;34m,\u001b[0m\u001b[0;34m\u001b[0m\u001b[0m\n\u001b[1;32m   1214\u001b[0m                                                            \u001b[0mclass_weight\u001b[0m\u001b[0;34m=\u001b[0m\u001b[0mclass_weight\u001b[0m\u001b[0;34m,\u001b[0m\u001b[0;34m\u001b[0m\u001b[0m\n\u001b[0;32m-> 1215\u001b[0;31m                                                            check_batch_dim=True)\n\u001b[0m\u001b[1;32m   1216\u001b[0m         \u001b[0;32mif\u001b[0m \u001b[0mself\u001b[0m\u001b[0;34m.\u001b[0m\u001b[0muses_learning_phase\u001b[0m \u001b[0;32mand\u001b[0m \u001b[0mtype\u001b[0m\u001b[0;34m(\u001b[0m\u001b[0mK\u001b[0m\u001b[0;34m.\u001b[0m\u001b[0mlearning_phase\u001b[0m\u001b[0;34m(\u001b[0m\u001b[0;34m)\u001b[0m\u001b[0;34m)\u001b[0m \u001b[0;32mis\u001b[0m \u001b[0;32mnot\u001b[0m \u001b[0mint\u001b[0m\u001b[0;34m:\u001b[0m\u001b[0;34m\u001b[0m\u001b[0m\n\u001b[1;32m   1217\u001b[0m             \u001b[0mins\u001b[0m \u001b[0;34m=\u001b[0m \u001b[0mx\u001b[0m \u001b[0;34m+\u001b[0m \u001b[0my\u001b[0m \u001b[0;34m+\u001b[0m \u001b[0msample_weights\u001b[0m \u001b[0;34m+\u001b[0m \u001b[0;34m[\u001b[0m\u001b[0;36m1.\u001b[0m\u001b[0;34m]\u001b[0m\u001b[0;34m\u001b[0m\u001b[0m\n",
      "\u001b[0;32m/Users/Thomas/anaconda/envs/py35/lib/python3.5/site-packages/keras/engine/training.py\u001b[0m in \u001b[0;36m_standardize_user_data\u001b[0;34m(self, x, y, sample_weight, class_weight, check_batch_dim, batch_size)\u001b[0m\n\u001b[1;32m    963\u001b[0m                                    \u001b[0moutput_shapes\u001b[0m\u001b[0;34m,\u001b[0m\u001b[0;34m\u001b[0m\u001b[0m\n\u001b[1;32m    964\u001b[0m                                    \u001b[0mcheck_batch_dim\u001b[0m\u001b[0;34m=\u001b[0m\u001b[0;32mFalse\u001b[0m\u001b[0;34m,\u001b[0m\u001b[0;34m\u001b[0m\u001b[0m\n\u001b[0;32m--> 965\u001b[0;31m                                    exception_prefix='model target')\n\u001b[0m\u001b[1;32m    966\u001b[0m         sample_weights = standardize_sample_weights(sample_weight,\n\u001b[1;32m    967\u001b[0m                                                     self.output_names)\n",
      "\u001b[0;32m/Users/Thomas/anaconda/envs/py35/lib/python3.5/site-packages/keras/engine/training.py\u001b[0m in \u001b[0;36mstandardize_input_data\u001b[0;34m(data, names, shapes, check_batch_dim, exception_prefix)\u001b[0m\n\u001b[1;32m    106\u001b[0m                                         \u001b[0;34m' to have shape '\u001b[0m \u001b[0;34m+\u001b[0m \u001b[0mstr\u001b[0m\u001b[0;34m(\u001b[0m\u001b[0mshapes\u001b[0m\u001b[0;34m[\u001b[0m\u001b[0mi\u001b[0m\u001b[0;34m]\u001b[0m\u001b[0;34m)\u001b[0m \u001b[0;34m+\u001b[0m\u001b[0;34m\u001b[0m\u001b[0m\n\u001b[1;32m    107\u001b[0m                                         \u001b[0;34m' but got array with shape '\u001b[0m \u001b[0;34m+\u001b[0m\u001b[0;34m\u001b[0m\u001b[0m\n\u001b[0;32m--> 108\u001b[0;31m                                         str(array.shape))\n\u001b[0m\u001b[1;32m    109\u001b[0m     \u001b[0;32mreturn\u001b[0m \u001b[0marrays\u001b[0m\u001b[0;34m\u001b[0m\u001b[0m\n\u001b[1;32m    110\u001b[0m \u001b[0;34m\u001b[0m\u001b[0m\n",
      "\u001b[0;31mException\u001b[0m: Error when checking model target: expected dense_9 to have shape (None, 10) but got array with shape (4, 1)"
     ]
    }
   ],
   "source": [
    "env.reset()\n",
    "\n",
    "# Initialize replay memory D to capacity N\n",
    "N  = 10\n",
    "replay_memory = ReplayMemory(N)\n",
    "\n",
    "# TODO Initialize action-value function Q with random weights, create bins because of continious function?\n",
    "\n",
    "\n",
    "M = 1 # Number of episodes\n",
    "T = 100 # To be defined\n",
    "epsilon = 0.01 # Exploration\n",
    "gamma = 0.7 \n",
    "\n",
    "for episode in range(0,M):\n",
    "    ## Initialise sequence s(1) = {x1}\n",
    "    s = [preprocess_env(env)]\n",
    "\n",
    "    for t in tqdm.tqdm(range(0,T)):\n",
    "        \n",
    "        \n",
    "        # Choice of action\n",
    "        if np.random.rand()<epsilon:\n",
    "            # Choose action randomly\n",
    "            action_t = np.random.rand(2)\n",
    "        else:\n",
    "            # Choose max(Q(a,s))\\a\n",
    "            ## TODO\n",
    "            action_t = np.array([0,0])\n",
    "        \n",
    "            \n",
    "        # Execute action at in emulator and observe reward rt and image xt+1\n",
    "        observation, r_t, done, info = env.step(action_t)\n",
    "        x_t_plus_1 = preprocess_env(env) # Renders, downsamples and converts to grayscale the gameview\n",
    "        \n",
    "        # Set st+1 = st; at; xt+1 \n",
    "        tmp = s # st\n",
    "        s.append(action_t)\n",
    "        s.append(x_t_plus_1)\n",
    "        \n",
    "        # Store preprocessed with Phi transition Phi t , at, rt, Phi t+1  in D\n",
    "        replay_memory.append([phi(tmp),action_t,r_t,phi(s)], env.game_over)\n",
    "        \n",
    "        # Sample random minibatch of transitions Phi j , aj , rj , Phi j+1  from D\n",
    "        batch, batch_state = replay_memory.mini_batch(size = 4)\n",
    "        \n",
    "        x = []\n",
    "        y = []\n",
    "        for j,transition in enumerate(batch):\n",
    "            \n",
    "            if batch_state[j] == True:\n",
    "                # Terminal j+1\n",
    "                y.append(transition[2]) \n",
    "                env.reset()\n",
    "            else:\n",
    "                # Non-terminal j+1\n",
    "                phi_j_plus_1 = np.array(batch[j][3])\n",
    "                x.append(phi_j_plus_1)\n",
    "                phi_j_plus_1 = phi_j_plus_1[None,:,:,:]\n",
    "                \n",
    "                \n",
    "                output = model.predict(phi_j_plus_1)\n",
    "                max_val = max(output)\n",
    "                \n",
    "                # rj + gamma * max a0 Q(j+1; a0; theta)\n",
    "                y_j = np.array(transition[2]+gamma*max_val)\n",
    "                y.append(y_j)\n",
    "        \n",
    "        x = np.array(x)\n",
    "        y = np.array(y)\n",
    "        \n",
    "        #Perform a gradient descent step on (yj - Q(j ; aj ; theta))2 according to equation 3\n",
    "        model.train_on_batch(x,y)"
   ]
  },
  {
   "cell_type": "code",
   "execution_count": 48,
   "metadata": {
    "collapsed": true
   },
   "outputs": [],
   "source": [
    "%matplotlib inline"
   ]
  },
  {
   "cell_type": "code",
   "execution_count": 49,
   "metadata": {
    "collapsed": true
   },
   "outputs": [],
   "source": [
    "import matplotlib.pyplot as plt"
   ]
  },
  {
   "cell_type": "code",
   "execution_count": 51,
   "metadata": {
    "collapsed": false
   },
   "outputs": [
    {
     "data": {
      "text/plain": [
       "(4, 80, 120)"
      ]
     },
     "execution_count": 51,
     "metadata": {},
     "output_type": "execute_result"
    }
   ],
   "source": [
    "phi_j_plus_1[0].shape"
   ]
  },
  {
   "cell_type": "code",
   "execution_count": 62,
   "metadata": {
    "collapsed": false
   },
   "outputs": [
    {
     "data": {
      "text/plain": [
       "<matplotlib.image.AxesImage at 0x1808df048>"
      ]
     },
     "execution_count": 62,
     "metadata": {},
     "output_type": "execute_result"
    },
    {
     "data": {
      "image/png": "[encoded data removed]",
      "text/plain": [
       "<matplotlib.figure.Figure at 0x180467dd8>"
      ]
     },
     "metadata": {},
     "output_type": "display_data"
    }
   ],
   "source": [
    "plt.imshow(phi_j_plus_1[0][1],cmap='gray')"
   ]
  },
  {
   "cell_type": "code",
   "execution_count": null,
   "metadata": {
    "collapsed": true
   },
   "outputs": [],
   "source": []
  }
 ],
 "metadata": {
  "kernelspec": {
   "display_name": "Python 3",
   "language": "python",
   "name": "python3"
  },
  "language_info": {
   "codemirror_mode": {
    "name": "ipython",
    "version": 3
   },
   "file_extension": ".py",
   "mimetype": "text/x-python",
   "name": "python",
   "nbconvert_exporter": "python",
   "pygments_lexer": "ipython3",
   "version": "3.5.1"
  }
 },
 "nbformat": 4,
 "nbformat_minor": 0
}
