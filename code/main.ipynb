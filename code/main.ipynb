{
 "cells": [
  {
   "cell_type": "markdown",
   "metadata": {},
   "source": [
    "In LunarLanderContinious there are two actions possible (values in [-1,1])\n",
    "\n",
    "- First action, main engine:\n",
    "    - [-1..0] => off\n",
    "    - [0..+1] => throttle from 50% to 100% power\n",
    "    \n",
    "- Second action\n",
    "    - [-1.0..-0.5] => fire left engine\n",
    "    - [+0.5..+1.0] => fire right engine\n",
    "    - [-0.5..0.5] => off"
   ]
  },
  {
   "cell_type": "code",
   "execution_count": 5,
   "metadata": {
    "collapsed": false
   },
   "outputs": [
    {
     "name": "stderr",
     "output_type": "stream",
     "text": [
      "Using TensorFlow backend.\n"
     ]
    }
   ],
   "source": [
    "import numpy as np\n",
    "\n",
    "from keras.models import Sequential\n",
    "from keras.layers import Dense, Flatten\n",
    "from keras.optimizers import sgd\n",
    "\n",
    "import gym\n",
    "\n",
    "# Custom file, please check repo\n",
    "from _util import preprocess_env"
   ]
  },
  {
   "cell_type": "markdown",
   "metadata": {},
   "source": [
    "#  Initialization of environnement"
   ]
  },
  {
   "cell_type": "code",
   "execution_count": 35,
   "metadata": {
    "collapsed": false
   },
   "outputs": [
    {
     "name": "stderr",
     "output_type": "stream",
     "text": [
      "INFO:gym.envs.registration:Making new env: LunarLanderContinuous-v2\n",
      "[2017-01-06 16:19:19,176] Making new env: LunarLanderContinuous-v2\n"
     ]
    },
    {
     "data": {
      "text/plain": [
       "array([-0.00782633,  0.9330205 , -0.79274378, -0.50622552,  0.00907561,\n",
       "        0.17956823,  0.        ,  0.        ])"
      ]
     },
     "execution_count": 35,
     "metadata": {},
     "output_type": "execute_result"
    }
   ],
   "source": [
    " env = gym.make('LunarLanderContinuous-v2')\n",
    "env.reset()"
   ]
  },
  {
   "cell_type": "markdown",
   "metadata": {},
   "source": [
    "# Define NN"
   ]
  },
  {
   "cell_type": "code",
   "execution_count": 8,
   "metadata": {
    "collapsed": false
   },
   "outputs": [
    {
     "name": "stdout",
     "output_type": "stream",
     "text": [
      "____________________________________________________________________________________________________\n",
      "Layer (type)                     Output Shape          Param #     Connected to                     \n",
      "====================================================================================================\n",
      "flatten_3 (Flatten)              (None, 100)           0           flatten_input_3[0][0]            \n",
      "____________________________________________________________________________________________________\n",
      "dense_7 (Dense)                  (None, 100)           10100       flatten_3[0][0]                  \n",
      "____________________________________________________________________________________________________\n",
      "dense_8 (Dense)                  (None, 100)           10100       dense_7[0][0]                    \n",
      "____________________________________________________________________________________________________\n",
      "dense_9 (Dense)                  (None, 2)             202         dense_8[0][0]                    \n",
      "====================================================================================================\n",
      "Total params: 20402\n",
      "____________________________________________________________________________________________________\n"
     ]
    }
   ],
   "source": [
    "nb_frames = 1\n",
    "grid_size = 10\n",
    "hidden_size = 100\n",
    "action_size = 2\n",
    "\n",
    "model = Sequential()\n",
    "model.add(Flatten(input_shape=(nb_frames, grid_size, grid_size)))\n",
    "model.add(Dense(hidden_size, activation='relu'))\n",
    "model.add(Dense(hidden_size, activation='relu'))\n",
    "model.add(Dense(action_size))\n",
    "model.compile(sgd(lr=.2), \"mse\")\n",
    "model.summary()"
   ]
  },
  {
   "cell_type": "markdown",
   "metadata": {},
   "source": [
    "DQN with Experience replay"
   ]
  },
  {
   "cell_type": "code",
   "execution_count": null,
   "metadata": {
    "collapsed": true
   },
   "outputs": [],
   "source": [
    "# TODO Initialize replay memory D to capacity N\n",
    "# TODO Initialize action-value function Q with random weights\n",
    "\n",
    "M = 10 # Number of episodes\n",
    "T = 10 # To be defined\n",
    "epsilon = 0.01 # Exploration\n",
    "\n",
    "for episode in range(0,M);\n",
    "    # TODO Initialise sequence s1 = fx1g and preprocessed sequenced \u001e",
    "1 = \u001e",
    "(s1)\n",
    "    \n",
    "    for t in range(0,T):\n",
    "        \n",
    "        # Choice of action\n",
    "        if np.random.rand()<epsilon:\n",
    "            # Choose action randomly\n",
    "            action = np.random.rand(2)\n",
    "        else:\n",
    "            # Choose max(Q(a,s))\\a\n",
    "            ## TODO \n",
    "            action = np.random.rand(2)\n",
    "        \n",
    "            \n",
    "        # Execute action at in emulator and observe reward rt and image xt+1\n",
    "        observation, reward, done, info = env.step(action)\n",
    "        img = preprocess_env(env)\n",
    "        \n",
    "        # Set st+1 = st; at; xt+1 and preprocess \u001e",
    "t+1 = \u001e",
    "(st+1)\n",
    "\n",
    "        # Store transition (\u001e",
    "t; at; rt; \u001e",
    "t+1) in D\n",
    "\n",
    "        # Sample random minibatch of transitions (\u001e",
    "j ; aj ; rj ; \u001e",
    "j+1) from D\n",
    "\n",
    "        #Set yj =\n",
    "\u001a\n",
    "            # rj for terminal \u001e",
    "j+1\n",
    "\n",
    "            # rj + gamma*maxa0 Q(\u001e",
    "j+1; a0; theta) for non-terminal \u001e",
    "j+1\n",
    " \n",
    "        # Perform a gradient descent step on (yj - Q(\u001e",
    "j ; aj ; theta))2 according to equation 3\n",
    "\n"
   ]
  },
  {
   "cell_type": "code",
   "execution_count": 1,
   "metadata": {
    "collapsed": false
   },
   "outputs": [
    {
     "ename": "NameError",
     "evalue": "name 'rand' is not defined",
     "output_type": "error",
     "traceback": [
      "\u001b[0;31m---------------------------------------------------------------------------\u001b[0m",
      "\u001b[0;31mNameError\u001b[0m                                 Traceback (most recent call last)",
      "\u001b[0;32m<ipython-input-1-42606c8e2299>\u001b[0m in \u001b[0;36m<module>\u001b[0;34m()\u001b[0m\n\u001b[0;32m----> 1\u001b[0;31m \u001b[0mrand\u001b[0m\u001b[0;34m\u001b[0m\u001b[0m\n\u001b[0m",
      "\u001b[0;31mNameError\u001b[0m: name 'rand' is not defined"
     ]
    }
   ],
   "source": [
    "rand"
   ]
  },
  {
   "cell_type": "code",
   "execution_count": null,
   "metadata": {
    "collapsed": true
   },
   "outputs": [],
   "source": []
  }
 ],
 "metadata": {
  "kernelspec": {
   "display_name": "Python 3",
   "language": "python",
   "name": "python3"
  },
  "language_info": {
   "codemirror_mode": {
    "name": "ipython",
    "version": 3
   },
   "file_extension": ".py",
   "mimetype": "text/x-python",
   "name": "python",
   "nbconvert_exporter": "python",
   "pygments_lexer": "ipython3",
   "version": "3.5.1"
  }
 },
 "nbformat": 4,
 "nbformat_minor": 0
}
