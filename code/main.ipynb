{
 "cells": [
  {
   "cell_type": "markdown",
   "metadata": {},
   "source": [
    "In LunarLanderContinious there are two actions possible (values in [-1,1])\n",
    "\n",
    "- First action, main engine:\n",
    "    - [-1..0] => off\n",
    "    - [0..+1] => throttle from 50% to 100% power\n",
    "    \n",
    "- Second action\n",
    "    - [-1.0..-0.5] => fire left engine\n",
    "    - [+0.5..+1.0] => fire right engine\n",
    "    - [-0.5..0.5] => off"
   ]
  },
  {
   "cell_type": "code",
   "execution_count": 1,
   "metadata": {
    "collapsed": false
   },
   "outputs": [
    {
     "name": "stderr",
     "output_type": "stream",
     "text": [
      "Using TensorFlow backend.\n"
     ]
    }
   ],
   "source": [
    "import numpy as np\n",
    "import matplotlib.pyplot as plt\n",
    "from keras.models import Sequential\n",
    "from keras.layers import Dense, Flatten, Convolution2D\n",
    "from keras.optimizers import sgd\n",
    "from AgentNetwork import AgentNetwork\n",
    "import json\n",
    "import gym\n",
    "from tqdm import tqdm\n",
    "# Custom files, please check repo\n",
    "from _util import preprocess_env, phi\n",
    "from memory import ReplayMemory\n",
    "\n"
   ]
  },
  {
   "cell_type": "code",
   "execution_count": 2,
   "metadata": {
    "collapsed": false,
    "scrolled": true
   },
   "outputs": [
    {
     "name": "stdout",
     "output_type": "stream",
     "text": [
      "Building the network\n",
      "Building the network\n"
     ]
    },
    {
     "name": "stderr",
     "output_type": "stream",
     "text": [
      "[2017-01-09 18:38:01,534] Making new env: LunarLander-v2\n",
      "  0%|          | 0/100 [00:00<?, ?it/s]"
     ]
    },
    {
     "name": "stdout",
     "output_type": "stream",
     "text": [
      "Epoch 1/5\n",
      "1/1 [==============================] - 0s - loss: 379.3551\n",
      "Epoch 2/5\n",
      "1/1 [==============================] - 0s - loss: 1012565514458676949604261429248.0000\n",
      "Epoch 3/5\n",
      "1/1 [==============================] - 0s - loss: 25314137156801300124401664.0000\n",
      "Epoch 4/5\n",
      "1/1 [==============================] - 0s - loss: 25061626594705317713412096.0000\n",
      "Epoch 5/5\n",
      "1/1 [==============================] - 0s - loss: 24811638624861415083606016.0000\n"
     ]
    },
    {
     "name": "stderr",
     "output_type": "stream",
     "text": [
      "\r",
      "  1%|          | 1/100 [00:02<03:20,  2.03s/it]"
     ]
    },
    {
     "name": "stdout",
     "output_type": "stream",
     "text": [
      "Epoch 1/5\n",
      "1/1 [==============================] - 0s - loss: 85104592527164440576.0000\n",
      "Epoch 2/5\n",
      "1/1 [==============================] - 0s - loss: 84255672793498124288.0000\n",
      "Epoch 3/5\n",
      "1/1 [==============================] - 0s - loss: 83415214901319172096.0000\n",
      "Epoch 4/5\n",
      "1/1 [==============================] - 0s - loss: 82583148481883406336.0000\n",
      "Epoch 5/5\n",
      "1/1 [==============================] - 0s - loss: 81759376778167582720.0000\n",
      "Epoch 1/5\n",
      "1/1 [==============================] - 0s - loss: 79494866610065244160.0000\n",
      "Epoch 2/5\n",
      "1/1 [==============================] - 0s - loss: 78701907620206215168.0000\n",
      "Epoch 3/5\n",
      "1/1 [==============================] - 0s - loss: 77916865114067173376.0000\n",
      "Epoch 4/5\n",
      "1/1 [==============================] - 0s - loss: 77139642334624874496.0000\n",
      "Epoch 5/5\n",
      "1/1 [==============================] - 0s - loss: 76370177709228163072.0000\n"
     ]
    },
    {
     "name": "stderr",
     "output_type": "stream",
     "text": [
      "\r",
      "  2%|▏         | 2/100 [00:03<03:05,  1.89s/it]"
     ]
    },
    {
     "name": "stdout",
     "output_type": "stream",
     "text": [
      "Epoch 1/5\n",
      "1/1 [==============================] - 0s - loss: 74256414983340425216.0000\n",
      "Epoch 2/5\n",
      "1/1 [==============================] - 0s - loss: 73515700387986800640.0000\n",
      "Epoch 3/5\n",
      "1/1 [==============================] - 0s - loss: 72782378908818341888.0000\n",
      "Epoch 4/5\n",
      "1/1 [==============================] - 0s - loss: 72056366982951337984.0000\n",
      "Epoch 5/5\n",
      "1/1 [==============================] - 0s - loss: 71337607435781144576.0000\n",
      "Epoch 1/5\n",
      "1/1 [==============================] - 0s - loss: 69364511829504557056.0000\n",
      "Epoch 2/5\n",
      "1/1 [==============================] - 0s - loss: 68672597958238142464.0000\n",
      "Epoch 3/5\n",
      "1/1 [==============================] - 0s - loss: 67987584621947650048.0000\n",
      "Epoch 4/5\n",
      "1/1 [==============================] - 0s - loss: 67309410247981924352.0000\n",
      "Epoch 5/5\n",
      "1/1 [==============================] - 0s - loss: 66638000069550276608.0000\n",
      "Epoch 1/5\n",
      "1/1 [==============================] - 0s - loss: 64796234530141765632.0000\n",
      "Epoch 2/5\n",
      "1/1 [==============================] - 0s - loss: 64149893216823410688.0000\n",
      "Epoch 3/5\n",
      "1/1 [==============================] - 0s - loss: 63510003837736845312.0000\n",
      "Epoch 4/5\n",
      "1/1 [==============================] - 0s - loss: 62876491626091380736.0000\n",
      "Epoch 5/5\n",
      "1/1 [==============================] - 0s - loss: 62249303805328883712.0000\n"
     ]
    },
    {
     "name": "stderr",
     "output_type": "stream",
     "text": [
      "\r",
      "  3%|▎         | 3/100 [00:06<03:23,  2.09s/it]"
     ]
    },
    {
     "name": "stdout",
     "output_type": "stream",
     "text": [
      "Epoch 1/5\n",
      "1/1 [==============================] - 0s - loss: 60530133812417396736.0000\n",
      "Epoch 2/5\n",
      "1/1 [==============================] - 0s - loss: 59926343599093972992.0000\n",
      "Epoch 3/5\n",
      "1/1 [==============================] - 0s - loss: 59328574311444250624.0000\n",
      "Epoch 4/5\n",
      "1/1 [==============================] - 0s - loss: 58736768774863585280.0000\n",
      "Epoch 5/5\n",
      "1/1 [==============================] - 0s - loss: 58150869814747332608.0000\n",
      "Epoch 1/5\n",
      "1/1 [==============================] - 0s - loss: 56546132594008260608.0000\n",
      "Epoch 2/5\n",
      "1/1 [==============================] - 0s - loss: 55982091925052194816.0000\n",
      "Epoch 3/5\n",
      "1/1 [==============================] - 0s - loss: 55423667561490808832.0000\n",
      "Epoch 4/5\n",
      "1/1 [==============================] - 0s - loss: 54870819920905502720.0000\n",
      "Epoch 5/5\n",
      "1/1 [==============================] - 0s - loss: 54323469838459076608.0000\n",
      "Epoch 1/5\n",
      "1/1 [==============================] - 0s - loss: 52825578759660765184.0000\n",
      "Epoch 2/5\n",
      "1/1 [==============================] - 0s - loss: 52298640011072372736.0000\n",
      "Epoch 3/5\n",
      "1/1 [==============================] - 0s - loss: 51776961326111260672.0000\n",
      "Epoch 4/5\n",
      "1/1 [==============================] - 0s - loss: 51260481132126273536.0000\n",
      "Epoch 5/5\n",
      "1/1 [==============================] - 0s - loss: 50749159846698811392.0000\n",
      "Epoch 1/5\n",
      "1/1 [==============================] - 0s - loss: 49350985676446760960.0000\n",
      "Epoch 2/5\n",
      "1/1 [==============================] - 0s - loss: 48858707932412379136.0000\n",
      "Epoch 3/5\n",
      "1/1 [==============================] - 0s - loss: 48371338408284389376.0000\n",
      "Epoch 4/5\n",
      "1/1 [==============================] - 0s - loss: 47888837521644191744.0000\n",
      "Epoch 5/5\n",
      "1/1 [==============================] - 0s - loss: 47411143699840630784.0000"
     ]
    },
    {
     "name": "stderr",
     "output_type": "stream",
     "text": [
      "\r",
      "  4%|▍         | 4/100 [00:09<03:58,  2.49s/it]"
     ]
    },
    {
     "name": "stdout",
     "output_type": "stream",
     "text": [
      "\n",
      "Epoch 1/5\n",
      "1/1 [==============================] - 0s - loss: 46106067378135629824.0000\n",
      "Epoch 2/5\n",
      "1/1 [==============================] - 0s - loss: 45646163654469484544.0000\n",
      "Epoch 3/5\n",
      "1/1 [==============================] - 0s - loss: 45190842695267909632.0000\n",
      "Epoch 4/5\n",
      "1/1 [==============================] - 0s - loss: 44740060520065794048.0000\n",
      "Epoch 5/5\n",
      "1/1 [==============================] - 0s - loss: 44293781944491048960.0000\n",
      "Epoch 1/5\n",
      "1/1 [==============================] - 0s - loss: 43075602225752440832.0000\n",
      "Epoch 2/5\n",
      "1/1 [==============================] - 0s - loss: 42645921877710602240.0000\n",
      "Epoch 3/5\n",
      "1/1 [==============================] - 0s - loss: 42220529625017090048.0000\n",
      "Epoch 4/5\n",
      "1/1 [==============================] - 0s - loss: 41799381487206793216.0000\n",
      "Epoch 5/5\n",
      "1/1 [==============================] - 0s - loss: 41382433483814600704.0000\n",
      "Epoch 1/5\n",
      "1/1 [==============================] - 0s - loss: 40245375732973305856.0000\n",
      "Epoch 2/5\n",
      "1/1 [==============================] - 0s - loss: 39843930843532754944.0000\n",
      "Epoch 3/5\n",
      "1/1 [==============================] - 0s - loss: 39446483778370797568.0000\n",
      "Epoch 4/5\n",
      "1/1 [==============================] - 0s - loss: 39053008149208367104.0000\n",
      "Epoch 5/5\n",
      "1/1 [==============================] - 0s - loss: 38663451179487330304.0000\n",
      "Epoch 1/5\n",
      "1/1 [==============================] - 0s - loss: 37602118993474224128.0000\n",
      "Epoch 2/5\n",
      "1/1 [==============================] - 0s - loss: 37227040392867741696.0000\n",
      "Epoch 3/5\n",
      "1/1 [==============================] - 0s - loss: 36855697932772442112.0000\n",
      "Epoch 4/5\n",
      "1/1 [==============================] - 0s - loss: 36488063025886003200.0000\n",
      "Epoch 5/5\n",
      "1/1 [==============================] - 0s - loss: 36124091691743313920.0000\n",
      "Epoch 1/5\n",
      "1/1 [==============================] - 0s - loss: 35133438312186904576.0000\n",
      "Epoch 2/5\n",
      "1/1 [==============================] - 0s - loss: 34782984373996093440.0000\n",
      "Epoch 3/5\n",
      "1/1 [==============================] - 0s - loss: 34436022484735098880.0000\n",
      "Epoch 4/5\n",
      "1/1 [==============================] - 0s - loss: 34092521858078343168.0000\n",
      "Epoch 5/5\n",
      "1/1 [==============================] - 0s - loss: 33752451707700248576.0000\n"
     ]
    },
    {
     "name": "stderr",
     "output_type": "stream",
     "text": [
      "\r",
      "  5%|▌         | 5/100 [00:13<04:24,  2.79s/it]"
     ]
    },
    {
     "name": "stdout",
     "output_type": "stream",
     "text": [
      "Epoch 1/5\n",
      "1/1 [==============================] - 0s - loss: 32827793215066210304.0000\n",
      "Epoch 2/5\n",
      "1/1 [==============================] - 0s - loss: 32500334463058706432.0000\n",
      "Epoch 3/5\n",
      "1/1 [==============================] - 0s - loss: 32176143459608952832.0000\n",
      "Epoch 4/5\n",
      "1/1 [==============================] - 0s - loss: 31855182821321605120.0000\n",
      "Epoch 5/5\n",
      "1/1 [==============================] - 0s - loss: 31537426159917596672.0000\n",
      "Epoch 1/5\n",
      "1/1 [==============================] - 0s - loss: 30674360109648314368.0000\n",
      "Epoch 2/5\n",
      "1/1 [==============================] - 0s - loss: 30368385814847553536.0000\n",
      "Epoch 3/5\n",
      "1/1 [==============================] - 0s - loss: 30065459366278987776.0000\n",
      "Epoch 4/5\n",
      "1/1 [==============================] - 0s - loss: 29765556574686806016.0000\n",
      "Epoch 5/5\n",
      "1/1 [==============================] - 0s - loss: 29468644454722174976.0000\n",
      "Epoch 1/5\n",
      "1/1 [==============================] - 0s - loss: 28663071867469299712.0000\n",
      "Epoch 2/5\n",
      "1/1 [==============================] - 0s - loss: 28377159261828939776.0000\n",
      "Epoch 3/5\n",
      "1/1 [==============================] - 0s - loss: 28094094391304519680.0000\n",
      "Epoch 4/5\n",
      "1/1 [==============================] - 0s - loss: 27813853066640228352.0000\n",
      "Epoch 5/5\n",
      "1/1 [==============================] - 0s - loss: 27536408899556999168.0000\n",
      "Epoch 1/5\n",
      "1/1 [==============================] - 0s - loss: 26784514469972148224.0000\n",
      "Epoch 2/5\n",
      "1/1 [==============================] - 0s - loss: 26517339741492346880.0000\n",
      "Epoch 3/5\n",
      "1/1 [==============================] - 0s - loss: 26252828030175019008.0000\n",
      "Epoch 4/5\n",
      "1/1 [==============================] - 0s - loss: 25990955146764353536.0000\n",
      "Epoch 5/5\n",
      "1/1 [==============================] - 0s - loss: 25731696902004539392.0000\n",
      "Epoch 1/5\n",
      "1/1 [==============================] - 0s - loss: 25029898421204418560.0000\n",
      "Epoch 2/5\n",
      "1/1 [==============================] - 0s - loss: 24780227917838811136.0000\n",
      "Epoch 3/5\n",
      "1/1 [==============================] - 0s - loss: 24533044509775233024.0000\n",
      "Epoch 4/5\n",
      "1/1 [==============================] - 0s - loss: 24288328405804384256.0000\n",
      "Epoch 5/5\n",
      "1/1 [==============================] - 0s - loss: 24046053217647198208.0000\n",
      "Epoch 1/5\n",
      "1/1 [==============================] - 0s - loss: 23391027961492668416.0000\n",
      "Epoch 2/5\n",
      "1/1 [==============================] - 0s - loss: 23157702797985579008.0000\n",
      "Epoch 3/5\n",
      "1/1 [==============================] - 0s - loss: 22926702002059608064.0000\n",
      "Epoch 4/5\n",
      "1/1 [==============================] - 0s - loss: 22698005782505455616.0000\n",
      "Epoch 5/5\n",
      "1/1 [==============================] - 0s - loss: 22471592149090566144.0000\n"
     ]
    },
    {
     "name": "stderr",
     "output_type": "stream",
     "text": [
      "\r",
      "  6%|▌         | 6/100 [00:17<04:56,  3.15s/it]"
     ]
    },
    {
     "name": "stdout",
     "output_type": "stream",
     "text": [
      "Epoch 1/5\n",
      "1/1 [==============================] - 0s - loss: 21860224101628510208.0000\n",
      "Epoch 2/5\n",
      "1/1 [==============================] - 0s - loss: 21642164557561462784.0000\n",
      "Epoch 3/5\n",
      "1/1 [==============================] - 0s - loss: 21426286444563922944.0000\n",
      "Epoch 4/5\n",
      "1/1 [==============================] - 0s - loss: 21212558976310312960.0000\n",
      "Epoch 5/5\n",
      "1/1 [==============================] - 0s - loss: 21000960162568077312.0000\n",
      "Epoch 1/5\n",
      "1/1 [==============================] - 0s - loss: 20430340016031399936.0000\n",
      "Epoch 2/5\n",
      "1/1 [==============================] - 0s - loss: 20226541137776607232.0000\n",
      "Epoch 3/5\n",
      "1/1 [==============================] - 0s - loss: 20024780754079711232.0000\n",
      "Epoch 4/5\n",
      "1/1 [==============================] - 0s - loss: 19825034675684900864.0000\n",
      "Epoch 5/5\n",
      "1/1 [==============================] - 0s - loss: 19627278713336365056.0000\n",
      "Epoch 1/5\n",
      "1/1 [==============================] - 0s - loss: 19094701669120737280.0000\n",
      "Epoch 2/5\n",
      "1/1 [==============================] - 0s - loss: 18904233269841100800.0000\n",
      "Epoch 3/5\n",
      "1/1 [==============================] - 0s - loss: 18715662627631005696.0000\n",
      "Epoch 4/5\n",
      "1/1 [==============================] - 0s - loss: 18528974349327663104.0000\n",
      "Epoch 5/5\n",
      "1/1 [==============================] - 0s - loss: 18344148643721773056.0000\n",
      "Epoch 1/5\n",
      "1/1 [==============================] - 0s - loss: 17847077028990287872.0000\n",
      "Epoch 2/5\n",
      "1/1 [==============================] - 0s - loss: 17669050703290564608.0000\n",
      "Epoch 3/5\n",
      "1/1 [==============================] - 0s - loss: 17492803387404582912.0000\n",
      "Epoch 4/5\n",
      "1/1 [==============================] - 0s - loss: 17318314190611415040.0000\n",
      "Epoch 5/5\n",
      "1/1 [==============================] - 0s - loss: 17145563321701761024.0000\n",
      "Epoch 1/5\n",
      "1/1 [==============================] - 0s - loss: 16681634285966327808.0000\n",
      "Epoch 2/5\n",
      "1/1 [==============================] - 0s - loss: 16515234196218707968.0000\n",
      "Epoch 3/5\n",
      "1/1 [==============================] - 0s - loss: 16350496568052285440.0000\n",
      "Epoch 4/5\n",
      "1/1 [==============================] - 0s - loss: 16187400510746132480.0000\n",
      "Epoch 5/5\n",
      "1/1 [==============================] - 0s - loss: 16025929531625832448.0000\n",
      "Epoch 1/5\n",
      "1/1 [==============================] - 0s - loss: 15592945151142526976.0000\n",
      "Epoch 2/5\n",
      "1/1 [==============================] - 0s - loss: 15437407136765706240.0000\n",
      "Epoch 3/5\n",
      "1/1 [==============================] - 0s - loss: 15283417234760794112.0000\n",
      "Epoch 4/5\n",
      "1/1 [==============================] - 0s - loss: 15130963350499885056.0000\n",
      "Epoch 5/5\n",
      "1/1 [==============================] - 0s - loss: 14980032289843445760.0000\n",
      "Epoch 1/5\n",
      "1/1 [==============================] - 0s - loss: 14575923283728793600.0000\n",
      "Epoch 2/5\n",
      "1/1 [==============================] - 0s - loss: 14430526065094950912.0000\n",
      "Epoch 3/5\n",
      "1/1 [==============================] - 0s - loss: 14286582400833028096.0000\n",
      "Epoch 4/5\n",
      "1/1 [==============================] - 0s - loss: 14144072499733725184.0000\n",
      "Epoch 5/5\n",
      "1/1 [==============================] - 0s - loss: 14002986466192392192.0000\n"
     ]
    },
    {
     "name": "stderr",
     "output_type": "stream",
     "text": [
      "\r",
      "  7%|▋         | 7/100 [00:21<05:40,  3.66s/it]"
     ]
    },
    {
     "name": "stdout",
     "output_type": "stream",
     "text": [
      "Epoch 1/5\n",
      "1/1 [==============================] - 0s - loss: 13625830888121040896.0000\n",
      "Epoch 2/5\n",
      "1/1 [==============================] - 0s - loss: 13489912559230255104.0000\n",
      "Epoch 3/5\n",
      "1/1 [==============================] - 0s - loss: 13355349928176517120.0000\n",
      "Epoch 4/5\n",
      "1/1 [==============================] - 0s - loss: 13222131999843549184.0000\n",
      "Epoch 5/5\n",
      "1/1 [==============================] - 0s - loss: 13090241182045306880.0000\n",
      "Epoch 1/5\n",
      "1/1 [==============================] - 0s - loss: 12738255624157003776.0000\n",
      "Epoch 2/5\n",
      "1/1 [==============================] - 0s - loss: 12611192761916325888.0000\n",
      "Epoch 3/5\n",
      "1/1 [==============================] - 0s - loss: 12485395437559218176.0000\n",
      "Epoch 4/5\n",
      "1/1 [==============================] - 0s - loss: 12360851556457775104.0000\n",
      "Epoch 5/5\n",
      "1/1 [==============================] - 0s - loss: 12237552322518974464.0000\n",
      "Epoch 1/5\n",
      "1/1 [==============================] - 0s - loss: 11909053432511594496.0000\n",
      "Epoch 2/5\n",
      "1/1 [==============================] - 0s - loss: 11790258897711792128.0000\n",
      "Epoch 3/5\n",
      "1/1 [==============================] - 0s - loss: 11672651835469987840.0000\n",
      "Epoch 4/5\n",
      "1/1 [==============================] - 0s - loss: 11556215753111764992.0000\n",
      "Epoch 5/5\n",
      "1/1 [==============================] - 0s - loss: 11440941854544101376.0000\n",
      "Epoch 1/5\n",
      "1/1 [==============================] - 0s - loss: 11134362828348063744.0000\n",
      "Epoch 2/5\n",
      "1/1 [==============================] - 0s - loss: 11023297860291526656.0000\n",
      "Epoch 3/5\n",
      "1/1 [==============================] - 0s - loss: 10913341199955787776.0000\n",
      "Epoch 4/5\n",
      "1/1 [==============================] - 0s - loss: 10804480752712941568.0000\n",
      "Epoch 5/5\n",
      "1/1 [==============================] - 0s - loss: 10696705523446710272.0000\n",
      "Epoch 1/5\n",
      "1/1 [==============================] - 0s - loss: 10410593906201722880.0000\n",
      "Epoch 2/5\n",
      "1/1 [==============================] - 0s - loss: 10306748331493163008.0000\n",
      "Epoch 3/5\n",
      "1/1 [==============================] - 0s - loss: 10203937397226340352.0000\n",
      "Epoch 4/5\n",
      "1/1 [==============================] - 0s - loss: 10102153406819860480.0000\n",
      "Epoch 5/5\n",
      "1/1 [==============================] - 0s - loss: 10001384265645817856.0000\n",
      "Epoch 1/5\n",
      "1/1 [==============================] - 0s - loss: 9734371165375299584.0000\n",
      "Epoch 2/5\n",
      "1/1 [==============================] - 0s - loss: 9637269994991517696.0000\n",
      "Epoch 3/5\n",
      "1/1 [==============================] - 0s - loss: 9541139693375062016.0000\n",
      "Epoch 4/5\n",
      "1/1 [==============================] - 0s - loss: 9445965966874771456.0000\n",
      "Epoch 5/5\n"
     ]
    },
    {
     "ename": "KeyboardInterrupt",
     "evalue": "",
     "output_type": "error",
     "traceback": [
      "\u001b[0;31m---------------------------------------------------------------------------\u001b[0m",
      "\u001b[0;31mKeyboardInterrupt\u001b[0m                         Traceback (most recent call last)",
      "\u001b[0;32m<ipython-input-2-66ff6c43d0aa>\u001b[0m in \u001b[0;36m<module>\u001b[0;34m()\u001b[0m\n\u001b[1;32m     80\u001b[0m \u001b[0;34m\u001b[0m\u001b[0m\n\u001b[1;32m     81\u001b[0m             \u001b[0;31m#Perform a gradient descent step on (yj - Q(j ; aj ; theta))2 according to equation 3\u001b[0m\u001b[0;34m\u001b[0m\u001b[0;34m\u001b[0m\u001b[0m\n\u001b[0;32m---> 82\u001b[0;31m             \u001b[0mcallback\u001b[0m \u001b[0;34m=\u001b[0m \u001b[0magent\u001b[0m\u001b[0;34m.\u001b[0m\u001b[0mmodel\u001b[0m\u001b[0;34m.\u001b[0m\u001b[0mfit\u001b[0m\u001b[0;34m(\u001b[0m\u001b[0mphi_j\u001b[0m\u001b[0;34m,\u001b[0m\u001b[0mnp\u001b[0m\u001b[0;34m.\u001b[0m\u001b[0marray\u001b[0m\u001b[0;34m(\u001b[0m\u001b[0my_j\u001b[0m\u001b[0;34m)\u001b[0m\u001b[0;34m[\u001b[0m\u001b[0;32mNone\u001b[0m\u001b[0;34m,\u001b[0m\u001b[0;34m:\u001b[0m\u001b[0;34m]\u001b[0m\u001b[0;34m,\u001b[0m\u001b[0mnb_epoch\u001b[0m\u001b[0;34m=\u001b[0m\u001b[0;36m5\u001b[0m\u001b[0;34m)\u001b[0m\u001b[0;34m\u001b[0m\u001b[0m\n\u001b[0m\u001b[1;32m     83\u001b[0m             \u001b[0magent\u001b[0m\u001b[0;34m.\u001b[0m\u001b[0mtarget_train\u001b[0m\u001b[0;34m(\u001b[0m\u001b[0;34m)\u001b[0m\u001b[0;34m\u001b[0m\u001b[0m\n\u001b[1;32m     84\u001b[0m             \u001b[0mloss_v\u001b[0m\u001b[0;34m.\u001b[0m\u001b[0mappend\u001b[0m\u001b[0;34m(\u001b[0m\u001b[0mcallback\u001b[0m\u001b[0;34m.\u001b[0m\u001b[0mhistory\u001b[0m\u001b[0;34m[\u001b[0m\u001b[0;34m'loss'\u001b[0m\u001b[0;34m]\u001b[0m\u001b[0;34m)\u001b[0m\u001b[0;34m\u001b[0m\u001b[0m\n",
      "\u001b[0;32m/Users/ilyes/anaconda/lib/python3.5/site-packages/keras/models.py\u001b[0m in \u001b[0;36mfit\u001b[0;34m(self, x, y, batch_size, nb_epoch, verbose, callbacks, validation_split, validation_data, shuffle, class_weight, sample_weight, **kwargs)\u001b[0m\n\u001b[1;32m    662\u001b[0m                               \u001b[0mshuffle\u001b[0m\u001b[0;34m=\u001b[0m\u001b[0mshuffle\u001b[0m\u001b[0;34m,\u001b[0m\u001b[0;34m\u001b[0m\u001b[0m\n\u001b[1;32m    663\u001b[0m                               \u001b[0mclass_weight\u001b[0m\u001b[0;34m=\u001b[0m\u001b[0mclass_weight\u001b[0m\u001b[0;34m,\u001b[0m\u001b[0;34m\u001b[0m\u001b[0m\n\u001b[0;32m--> 664\u001b[0;31m                               sample_weight=sample_weight)\n\u001b[0m\u001b[1;32m    665\u001b[0m \u001b[0;34m\u001b[0m\u001b[0m\n\u001b[1;32m    666\u001b[0m     def evaluate(self, x, y, batch_size=32, verbose=1,\n",
      "\u001b[0;32m/Users/ilyes/anaconda/lib/python3.5/site-packages/keras/engine/training.py\u001b[0m in \u001b[0;36mfit\u001b[0;34m(self, x, y, batch_size, nb_epoch, verbose, callbacks, validation_split, validation_data, shuffle, class_weight, sample_weight, initial_epoch)\u001b[0m\n\u001b[1;32m   1141\u001b[0m                               \u001b[0mval_f\u001b[0m\u001b[0;34m=\u001b[0m\u001b[0mval_f\u001b[0m\u001b[0;34m,\u001b[0m \u001b[0mval_ins\u001b[0m\u001b[0;34m=\u001b[0m\u001b[0mval_ins\u001b[0m\u001b[0;34m,\u001b[0m \u001b[0mshuffle\u001b[0m\u001b[0;34m=\u001b[0m\u001b[0mshuffle\u001b[0m\u001b[0;34m,\u001b[0m\u001b[0;34m\u001b[0m\u001b[0m\n\u001b[1;32m   1142\u001b[0m                               \u001b[0mcallback_metrics\u001b[0m\u001b[0;34m=\u001b[0m\u001b[0mcallback_metrics\u001b[0m\u001b[0;34m,\u001b[0m\u001b[0;34m\u001b[0m\u001b[0m\n\u001b[0;32m-> 1143\u001b[0;31m                               initial_epoch=initial_epoch)\n\u001b[0m\u001b[1;32m   1144\u001b[0m \u001b[0;34m\u001b[0m\u001b[0m\n\u001b[1;32m   1145\u001b[0m     \u001b[0;32mdef\u001b[0m \u001b[0mevaluate\u001b[0m\u001b[0;34m(\u001b[0m\u001b[0mself\u001b[0m\u001b[0;34m,\u001b[0m \u001b[0mx\u001b[0m\u001b[0;34m,\u001b[0m \u001b[0my\u001b[0m\u001b[0;34m,\u001b[0m \u001b[0mbatch_size\u001b[0m\u001b[0;34m=\u001b[0m\u001b[0;36m32\u001b[0m\u001b[0;34m,\u001b[0m \u001b[0mverbose\u001b[0m\u001b[0;34m=\u001b[0m\u001b[0;36m1\u001b[0m\u001b[0;34m,\u001b[0m \u001b[0msample_weight\u001b[0m\u001b[0;34m=\u001b[0m\u001b[0;32mNone\u001b[0m\u001b[0;34m)\u001b[0m\u001b[0;34m:\u001b[0m\u001b[0;34m\u001b[0m\u001b[0m\n",
      "\u001b[0;32m/Users/ilyes/anaconda/lib/python3.5/site-packages/keras/engine/training.py\u001b[0m in \u001b[0;36m_fit_loop\u001b[0;34m(self, f, ins, out_labels, batch_size, nb_epoch, verbose, callbacks, val_f, val_ins, shuffle, callback_metrics, initial_epoch)\u001b[0m\n\u001b[1;32m    841\u001b[0m                 \u001b[0mbatch_logs\u001b[0m\u001b[0;34m[\u001b[0m\u001b[0;34m'size'\u001b[0m\u001b[0;34m]\u001b[0m \u001b[0;34m=\u001b[0m \u001b[0mlen\u001b[0m\u001b[0;34m(\u001b[0m\u001b[0mbatch_ids\u001b[0m\u001b[0;34m)\u001b[0m\u001b[0;34m\u001b[0m\u001b[0m\n\u001b[1;32m    842\u001b[0m                 \u001b[0mcallbacks\u001b[0m\u001b[0;34m.\u001b[0m\u001b[0mon_batch_begin\u001b[0m\u001b[0;34m(\u001b[0m\u001b[0mbatch_index\u001b[0m\u001b[0;34m,\u001b[0m \u001b[0mbatch_logs\u001b[0m\u001b[0;34m)\u001b[0m\u001b[0;34m\u001b[0m\u001b[0m\n\u001b[0;32m--> 843\u001b[0;31m                 \u001b[0mouts\u001b[0m \u001b[0;34m=\u001b[0m \u001b[0mf\u001b[0m\u001b[0;34m(\u001b[0m\u001b[0mins_batch\u001b[0m\u001b[0;34m)\u001b[0m\u001b[0;34m\u001b[0m\u001b[0m\n\u001b[0m\u001b[1;32m    844\u001b[0m                 \u001b[0;32mif\u001b[0m \u001b[0;32mnot\u001b[0m \u001b[0misinstance\u001b[0m\u001b[0;34m(\u001b[0m\u001b[0mouts\u001b[0m\u001b[0;34m,\u001b[0m \u001b[0mlist\u001b[0m\u001b[0;34m)\u001b[0m\u001b[0;34m:\u001b[0m\u001b[0;34m\u001b[0m\u001b[0m\n\u001b[1;32m    845\u001b[0m                     \u001b[0mouts\u001b[0m \u001b[0;34m=\u001b[0m \u001b[0;34m[\u001b[0m\u001b[0mouts\u001b[0m\u001b[0;34m]\u001b[0m\u001b[0;34m\u001b[0m\u001b[0m\n",
      "\u001b[0;32m/Users/ilyes/anaconda/lib/python3.5/site-packages/keras/backend/tensorflow_backend.py\u001b[0m in \u001b[0;36m__call__\u001b[0;34m(self, inputs)\u001b[0m\n\u001b[1;32m   1601\u001b[0m         \u001b[0msession\u001b[0m \u001b[0;34m=\u001b[0m \u001b[0mget_session\u001b[0m\u001b[0;34m(\u001b[0m\u001b[0;34m)\u001b[0m\u001b[0;34m\u001b[0m\u001b[0m\n\u001b[1;32m   1602\u001b[0m         updated = session.run(self.outputs + [self.updates_op],\n\u001b[0;32m-> 1603\u001b[0;31m                               feed_dict=feed_dict)\n\u001b[0m\u001b[1;32m   1604\u001b[0m         \u001b[0;32mreturn\u001b[0m \u001b[0mupdated\u001b[0m\u001b[0;34m[\u001b[0m\u001b[0;34m:\u001b[0m\u001b[0mlen\u001b[0m\u001b[0;34m(\u001b[0m\u001b[0mself\u001b[0m\u001b[0;34m.\u001b[0m\u001b[0moutputs\u001b[0m\u001b[0;34m)\u001b[0m\u001b[0;34m]\u001b[0m\u001b[0;34m\u001b[0m\u001b[0m\n\u001b[1;32m   1605\u001b[0m \u001b[0;34m\u001b[0m\u001b[0m\n",
      "\u001b[0;32m/Users/ilyes/anaconda/lib/python3.5/site-packages/tensorflow/python/client/session.py\u001b[0m in \u001b[0;36mrun\u001b[0;34m(self, fetches, feed_dict, options, run_metadata)\u001b[0m\n\u001b[1;32m    764\u001b[0m     \u001b[0;32mtry\u001b[0m\u001b[0;34m:\u001b[0m\u001b[0;34m\u001b[0m\u001b[0m\n\u001b[1;32m    765\u001b[0m       result = self._run(None, fetches, feed_dict, options_ptr,\n\u001b[0;32m--> 766\u001b[0;31m                          run_metadata_ptr)\n\u001b[0m\u001b[1;32m    767\u001b[0m       \u001b[0;32mif\u001b[0m \u001b[0mrun_metadata\u001b[0m\u001b[0;34m:\u001b[0m\u001b[0;34m\u001b[0m\u001b[0m\n\u001b[1;32m    768\u001b[0m         \u001b[0mproto_data\u001b[0m \u001b[0;34m=\u001b[0m \u001b[0mtf_session\u001b[0m\u001b[0;34m.\u001b[0m\u001b[0mTF_GetBuffer\u001b[0m\u001b[0;34m(\u001b[0m\u001b[0mrun_metadata_ptr\u001b[0m\u001b[0;34m)\u001b[0m\u001b[0;34m\u001b[0m\u001b[0m\n",
      "\u001b[0;32m/Users/ilyes/anaconda/lib/python3.5/site-packages/tensorflow/python/client/session.py\u001b[0m in \u001b[0;36m_run\u001b[0;34m(self, handle, fetches, feed_dict, options, run_metadata)\u001b[0m\n\u001b[1;32m    962\u001b[0m     \u001b[0;32mif\u001b[0m \u001b[0mfinal_fetches\u001b[0m \u001b[0;32mor\u001b[0m \u001b[0mfinal_targets\u001b[0m\u001b[0;34m:\u001b[0m\u001b[0;34m\u001b[0m\u001b[0m\n\u001b[1;32m    963\u001b[0m       results = self._do_run(handle, final_targets, final_fetches,\n\u001b[0;32m--> 964\u001b[0;31m                              feed_dict_string, options, run_metadata)\n\u001b[0m\u001b[1;32m    965\u001b[0m     \u001b[0;32melse\u001b[0m\u001b[0;34m:\u001b[0m\u001b[0;34m\u001b[0m\u001b[0m\n\u001b[1;32m    966\u001b[0m       \u001b[0mresults\u001b[0m \u001b[0;34m=\u001b[0m \u001b[0;34m[\u001b[0m\u001b[0;34m]\u001b[0m\u001b[0;34m\u001b[0m\u001b[0m\n",
      "\u001b[0;32m/Users/ilyes/anaconda/lib/python3.5/site-packages/tensorflow/python/client/session.py\u001b[0m in \u001b[0;36m_do_run\u001b[0;34m(self, handle, target_list, fetch_list, feed_dict, options, run_metadata)\u001b[0m\n\u001b[1;32m   1012\u001b[0m     \u001b[0;32mif\u001b[0m \u001b[0mhandle\u001b[0m \u001b[0;32mis\u001b[0m \u001b[0;32mNone\u001b[0m\u001b[0;34m:\u001b[0m\u001b[0;34m\u001b[0m\u001b[0m\n\u001b[1;32m   1013\u001b[0m       return self._do_call(_run_fn, self._session, feed_dict, fetch_list,\n\u001b[0;32m-> 1014\u001b[0;31m                            target_list, options, run_metadata)\n\u001b[0m\u001b[1;32m   1015\u001b[0m     \u001b[0;32melse\u001b[0m\u001b[0;34m:\u001b[0m\u001b[0;34m\u001b[0m\u001b[0m\n\u001b[1;32m   1016\u001b[0m       return self._do_call(_prun_fn, self._session, handle, feed_dict,\n",
      "\u001b[0;32m/Users/ilyes/anaconda/lib/python3.5/site-packages/tensorflow/python/client/session.py\u001b[0m in \u001b[0;36m_do_call\u001b[0;34m(self, fn, *args)\u001b[0m\n\u001b[1;32m   1019\u001b[0m   \u001b[0;32mdef\u001b[0m \u001b[0m_do_call\u001b[0m\u001b[0;34m(\u001b[0m\u001b[0mself\u001b[0m\u001b[0;34m,\u001b[0m \u001b[0mfn\u001b[0m\u001b[0;34m,\u001b[0m \u001b[0;34m*\u001b[0m\u001b[0margs\u001b[0m\u001b[0;34m)\u001b[0m\u001b[0;34m:\u001b[0m\u001b[0;34m\u001b[0m\u001b[0m\n\u001b[1;32m   1020\u001b[0m     \u001b[0;32mtry\u001b[0m\u001b[0;34m:\u001b[0m\u001b[0;34m\u001b[0m\u001b[0m\n\u001b[0;32m-> 1021\u001b[0;31m       \u001b[0;32mreturn\u001b[0m \u001b[0mfn\u001b[0m\u001b[0;34m(\u001b[0m\u001b[0;34m*\u001b[0m\u001b[0margs\u001b[0m\u001b[0;34m)\u001b[0m\u001b[0;34m\u001b[0m\u001b[0m\n\u001b[0m\u001b[1;32m   1022\u001b[0m     \u001b[0;32mexcept\u001b[0m \u001b[0merrors\u001b[0m\u001b[0;34m.\u001b[0m\u001b[0mOpError\u001b[0m \u001b[0;32mas\u001b[0m \u001b[0me\u001b[0m\u001b[0;34m:\u001b[0m\u001b[0;34m\u001b[0m\u001b[0m\n\u001b[1;32m   1023\u001b[0m       \u001b[0mmessage\u001b[0m \u001b[0;34m=\u001b[0m \u001b[0mcompat\u001b[0m\u001b[0;34m.\u001b[0m\u001b[0mas_text\u001b[0m\u001b[0;34m(\u001b[0m\u001b[0me\u001b[0m\u001b[0;34m.\u001b[0m\u001b[0mmessage\u001b[0m\u001b[0;34m)\u001b[0m\u001b[0;34m\u001b[0m\u001b[0m\n",
      "\u001b[0;32m/Users/ilyes/anaconda/lib/python3.5/site-packages/tensorflow/python/client/session.py\u001b[0m in \u001b[0;36m_run_fn\u001b[0;34m(session, feed_dict, fetch_list, target_list, options, run_metadata)\u001b[0m\n\u001b[1;32m   1001\u001b[0m         return tf_session.TF_Run(session, options,\n\u001b[1;32m   1002\u001b[0m                                  \u001b[0mfeed_dict\u001b[0m\u001b[0;34m,\u001b[0m \u001b[0mfetch_list\u001b[0m\u001b[0;34m,\u001b[0m \u001b[0mtarget_list\u001b[0m\u001b[0;34m,\u001b[0m\u001b[0;34m\u001b[0m\u001b[0m\n\u001b[0;32m-> 1003\u001b[0;31m                                  status, run_metadata)\n\u001b[0m\u001b[1;32m   1004\u001b[0m \u001b[0;34m\u001b[0m\u001b[0m\n\u001b[1;32m   1005\u001b[0m     \u001b[0;32mdef\u001b[0m \u001b[0m_prun_fn\u001b[0m\u001b[0;34m(\u001b[0m\u001b[0msession\u001b[0m\u001b[0;34m,\u001b[0m \u001b[0mhandle\u001b[0m\u001b[0;34m,\u001b[0m \u001b[0mfeed_dict\u001b[0m\u001b[0;34m,\u001b[0m \u001b[0mfetch_list\u001b[0m\u001b[0;34m)\u001b[0m\u001b[0;34m:\u001b[0m\u001b[0;34m\u001b[0m\u001b[0m\n",
      "\u001b[0;31mKeyboardInterrupt\u001b[0m: "
     ]
    }
   ],
   "source": [
    "train_indicator=1\n",
    "\n",
    "MEMORY_SIZE = 50  # CHANGE TO BIGGER VALUE BEFORE RUNNING\n",
    "BATCH_SIZE = 8  # CHANGE TO BIGGER VALUE BEFORE RUNNING\n",
    "GAMMA = 0.9\n",
    "TAU = 0.01\n",
    "LEARNING_RATE = 0.01\n",
    "\n",
    "nb_actions = 4\n",
    "nb_frames = 4\n",
    "height = 40\n",
    "width = 60\n",
    "\n",
    "nb_episodes = 10  # CHANGE TO BIGGER VALUE BEFORE RUNNING\n",
    "max_steps = 100  # CHANGE TO BIGGER VALUE BEFORE RUNNING\n",
    "\n",
    "epsilon = 0.01\n",
    "\n",
    "replay_memory = ReplayMemory(MEMORY_SIZE)\n",
    "agent = AgentNetwork(height, width, nb_frames, nb_actions, BATCH_SIZE, TAU, LEARNING_RATE)\n",
    "\n",
    "env = gym.make('LunarLander-v2')\n",
    "\n",
    "loss_v = []\n",
    "reward_v = []\n",
    "\n",
    "\n",
    "for episode in range(nb_episodes):\n",
    "    env.reset()\n",
    "\n",
    "\n",
    "    s_t = [preprocess_env(env)]\n",
    "\n",
    "    for t in tqdm(range(max_steps)):\n",
    "        loss = 0\n",
    "        cum_reward = 0\n",
    "\n",
    "        if np.random.rand() < epsilon:\n",
    "            a_t = np.random.randint(4)\n",
    "        else:\n",
    "            q = agent.model.predict(phi(s_t)[None, :, :, :])[0]\n",
    "            a_t = np.argmax(q)\n",
    "\n",
    "        _, r_t, done, _ = env.step(a_t)\n",
    "        x_t1 = preprocess_env(env)\n",
    "\n",
    "        temp = s_t\n",
    "        s_t.append(a_t)\n",
    "        s_t.append(x_t1)\n",
    "\n",
    "        replay_memory.append([phi(temp), a_t, r_t, phi(s_t)], env.game_over)\n",
    "        cum_reward += GAMMA ** t * r_t\n",
    "\n",
    "        batch, batch_state = replay_memory.mini_batch(size=agent.BATCH_SIZE)\n",
    "        \n",
    "        for j,transition in enumerate(batch):\n",
    "         \n",
    "            phi_j = np.array(batch[j][0])\n",
    "            # Converting to correct size for Keras\n",
    "            phi_j = phi_j[None,:,:,:]\n",
    "            # Output of size 4\n",
    "            q_t = agent.model.predict(phi_j)[0]\n",
    "            \n",
    "\n",
    "            if batch_state[j] == True:\n",
    "                # Terminal j+1\n",
    "                y_j = [transition[2]]*nb_actions\n",
    "            else:\n",
    "                # Non-terminal j+1\n",
    "                phi_j_plus_1 = np.array(batch[j][3])\n",
    "                phi_j_plus_1 = phi_j_plus_1[None,:,:,:]\n",
    "                q_t_plus_1 = agent.target_model.predict(phi_j_plus_1)[0]\n",
    "                \n",
    "                max_idx = np.argmax(q_t_plus_1)\n",
    "                max_val = q_t_plus_1[max_idx]\n",
    "               \n",
    "                # rj + gamma * max a0 Q(j+1; a0; theta)\n",
    "                y_j = q_t \n",
    "                y_j[max_idx] = transition[2]+GAMMA*max_val\n",
    "                \n",
    "            #Perform a gradient descent step on (yj - Q(j ; aj ; theta))2 according to equation 3\n",
    "            callback = agent.model.fit(phi_j,np.array(y_j)[None,:],nb_epoch=5)\n",
    "            agent.target_train()\n",
    "            loss_v.append(callback.history['loss'])\n",
    "\n",
    "        \n",
    "        \"\"\"\n",
    "        states = np.asarray([e[0] for e in batch])\n",
    "        actions = np.asarray([e[1] for e in batch])\n",
    "        rewards = np.asarray([e[2] for e in batch])\n",
    "        new_states = np.asarray([e[3] for e in batch])\n",
    "        y_t = np.zeros((len(batch),nb_actions))\n",
    "\n",
    "        for j in range(len(batch)):\n",
    "            if batch_state[j]:\n",
    "                y_t[j] = rewards[j]\n",
    "            else:\n",
    "                target_q = agent.target_model.predict(new_states[j][None, :, :, :])[0]\n",
    "                max_idx = np.argmax(target_q)\n",
    "\n",
    "                y_t[j] = agent.model.predict(states[j][None,:,:,:])[0]\n",
    "                y_t[j][max_idx] = rewards[j] + GAMMA * target_q[max_idx]\n",
    "\n",
    "        if (train_indicator):\n",
    "            if np.isnan(agent.model.train_on_batch(states, y_t)):\n",
    "                break\n",
    "            loss += agent.model.train_on_batch(states, y_t)\n",
    "            agent.target_train()\n",
    "        \"\"\"\n",
    "\n",
    "        if env.game_over:\n",
    "            break\n",
    "    reward_v.append(cum_reward)\n",
    "\n",
    "    if (train_indicator):\n",
    "        loss_v.append(loss)\n",
    "        print(\"Now we save model\")\n",
    "        agent.model.save_weights(\"model.h5f\", overwrite=True)\n",
    "        with open(\"model.json\", \"w\") as outfile:\n",
    "            json.dump(agent.model.to_json(), outfile)\n",
    "env.close()\n",
    "print(\"finish\")"
   ]
  },
  {
   "cell_type": "code",
   "execution_count": null,
   "metadata": {
    "collapsed": false,
    "scrolled": true
   },
   "outputs": [],
   "source": [
    "agent.model.get_weights()"
   ]
  },
  {
   "cell_type": "code",
   "execution_count": null,
   "metadata": {
    "collapsed": false,
    "scrolled": false
   },
   "outputs": [],
   "source": [
    "env.observation_space.shape"
   ]
  },
  {
   "cell_type": "code",
   "execution_count": null,
   "metadata": {
    "collapsed": false,
    "scrolled": false
   },
   "outputs": [],
   "source": [
    "agent = AgentNetwork(height, width, nb_frames, nb_actions, BATCH_SIZE, TAU, LEARNING_RATE)\n",
    "agent.model.get_weights()"
   ]
  },
  {
   "cell_type": "markdown",
   "metadata": {},
   "source": [
    "#  Initialization of environnement"
   ]
  },
  {
   "cell_type": "code",
   "execution_count": null,
   "metadata": {
    "collapsed": false
   },
   "outputs": [],
   "source": [
    "env = gym.make('LunarLanderContinuous-v2')\n",
    "env.reset()"
   ]
  },
  {
   "cell_type": "markdown",
   "metadata": {},
   "source": [
    "# Define NN"
   ]
  },
  {
   "cell_type": "code",
   "execution_count": null,
   "metadata": {
    "collapsed": false
   },
   "outputs": [],
   "source": [
    "nb_frames = 4\n",
    "\n",
    "height = 80\n",
    "width = 120\n",
    "\n",
    "# We need to create bins for the number of actions, we have continuous values, for example here we need\n",
    "# to specify the 10 actions we want to provide. We have to rediscuss this approach because we will be limited to \n",
    "# the actions we define...\n",
    "nb_actions = 4 \n",
    "\n",
    "hidden_size = 32\n",
    "\n",
    "model = Sequential()\n",
    "model.add(Convolution2D(8,8,8,input_shape = (nb_frames, height, width)))\n",
    "model.add(Convolution2D(16,4,4))\n",
    "model.add(Convolution2D(16,3,3))\n",
    "model.add(Flatten())\n",
    "model.add(Dense(hidden_size, activation='relu'))\n",
    "model.add(Dense(nb_actions))\n",
    "\n",
    "model.compile(optimizer='adagrad', loss = \"mse\")\n",
    "model.summary()"
   ]
  },
  {
   "cell_type": "code",
   "execution_count": null,
   "metadata": {
    "collapsed": false
   },
   "outputs": [],
   "source": [
    "model.get_weights()"
   ]
  },
  {
   "cell_type": "markdown",
   "metadata": {},
   "source": [
    "# DQN with Experience replay\n",
    "- We got an issue when game finishes, the model predicts a sequence of nan...\n"
   ]
  },
  {
   "cell_type": "code",
   "execution_count": null,
   "metadata": {
    "collapsed": true
   },
   "outputs": [],
   "source": [
    "import tqdm"
   ]
  },
  {
   "cell_type": "code",
   "execution_count": null,
   "metadata": {
    "collapsed": false,
    "scrolled": true
   },
   "outputs": [],
   "source": [
    "env.reset()\n",
    "\n",
    "# Initialize replay memory D to capacity N\n",
    "N  = 10\n",
    "replay_memory = ReplayMemory(N)\n",
    "\n",
    "# TODO Initialize action-value function Q with random weights, create bins because of continious function?\n",
    "\n",
    "TAU = 0.05\n",
    "agent = AgentNetwork(height, width, nb_frames, nb_actions, BATCH_SIZE, TAU, LEARNING_RATE)\n",
    "\n",
    "\n",
    "M = 1 # Number of episodes\n",
    "T = 100 # To be defined\n",
    "epsilon = 0.01 # Exploration\n",
    "gamma = 0.7 \n",
    "\n",
    "loss = []\n",
    "\n",
    "for episode in range(0,M):\n",
    "    env.reset()\n",
    "    \n",
    "    ## Initialise sequence s(1) = {x1}\n",
    "    s = [preprocess_env(env)]\n",
    "\n",
    "    for t in range(0,T):\n",
    "        \n",
    "        \n",
    "        # Choice of action\n",
    "        if np.random.rand()<epsilon:\n",
    "            # Choose action randomly\n",
    "            action_t = np.random.randint(4)\n",
    "        else:\n",
    "            # Choose max(Q(a,s))\\a\n",
    "            q = agent.model.predict(phi(s)[None,:,:,:])[0]\n",
    "            action_t = np.argmax(q)\n",
    "        \n",
    "            \n",
    "        # Execute action at in emulator and observe reward rt and image xt+1\n",
    "        observation, r_t, done, info = env.step(action_t)\n",
    "        x_t_plus_1 = preprocess_env(env) # Renders, downsamples and converts to grayscale the gameview\n",
    "        \n",
    "        # Set st+1 = st; at; xt+1 \n",
    "        tmp = s # st\n",
    "        s.append(action_t)\n",
    "        s.append(x_t_plus_1)\n",
    "        \n",
    "        # Store preprocessed with Phi transition Phi t , at, rt, Phi t+1  in D\n",
    "        replay_memory.append([phi(tmp),action_t,r_t,phi(s)], env.game_over)\n",
    "        \n",
    "        # Sample random minibatch of transitions Phi j , aj , rj , Phi j+1  from D\n",
    "        batch, batch_state = replay_memory.mini_batch(size = 4)\n",
    "        \n",
    "        for j,transition in enumerate(batch):\n",
    "         \n",
    "            phi_j = np.array(batch[j][0])\n",
    "            # Converting to correct size for Keras\n",
    "            phi_j = phi_j[None,:,:,:]\n",
    "            # Output of size 4\n",
    "            q_t = agent.model.predict(phi_j)[0]\n",
    "            \n",
    "\n",
    "            if batch_state[j] == True:\n",
    "                # Terminal j+1\n",
    "                y_j = [transition[2]]*nb_actions\n",
    "            else:\n",
    "                # Non-terminal j+1\n",
    "                phi_j_plus_1 = np.array(batch[j][3])\n",
    "                phi_j_plus_1 = phi_j_plus_1[None,:,:,:]\n",
    "                q_t_plus_1 = agent.target_model.predict(phi_j_plus_1)[0]\n",
    "                \n",
    "                max_idx = np.argmax(q_t_plus_1)\n",
    "                max_val = q_t_plus_1[max_idx]\n",
    "               \n",
    "                # rj + gamma * max a0 Q(j+1; a0; theta)\n",
    "                y_j = q_t \n",
    "                y_j[max_idx] = transition[2]+gamma*max_val\n",
    "                \n",
    "            #Perform a gradient descent step on (yj - Q(j ; aj ; theta))2 according to equation 3\n",
    "            callback = model.fit(phi_j,np.array(y_j)[None,:],nb_epoch=1)\n",
    "            loss.append(callback.history['loss'])\n",
    "            \n",
    "        if env.game_over:\n",
    "            break\n",
    "            "
   ]
  },
  {
   "cell_type": "code",
   "execution_count": null,
   "metadata": {
    "collapsed": false
   },
   "outputs": [],
   "source": [
    "action_t"
   ]
  },
  {
   "cell_type": "code",
   "execution_count": null,
   "metadata": {
    "collapsed": true
   },
   "outputs": [],
   "source": []
  },
  {
   "cell_type": "code",
   "execution_count": null,
   "metadata": {
    "collapsed": true
   },
   "outputs": [],
   "source": [
    "%matplotlib inline"
   ]
  },
  {
   "cell_type": "code",
   "execution_count": null,
   "metadata": {
    "collapsed": true
   },
   "outputs": [],
   "source": [
    "import matplotlib.pyplot as plt"
   ]
  },
  {
   "cell_type": "code",
   "execution_count": null,
   "metadata": {
    "collapsed": false
   },
   "outputs": [],
   "source": [
    "phi_j_plus_1[0].shape"
   ]
  },
  {
   "cell_type": "code",
   "execution_count": null,
   "metadata": {
    "collapsed": false
   },
   "outputs": [],
   "source": [
    "plt.imshow(phi_j_plus_1[0][1],cmap='gray')"
   ]
  },
  {
   "cell_type": "code",
   "execution_count": null,
   "metadata": {
    "collapsed": true
   },
   "outputs": [],
   "source": []
  }
 ],
 "metadata": {
  "anaconda-cloud": {},
  "kernelspec": {
   "display_name": "Python 3",
   "language": "python",
   "name": "python3"
  },
  "language_info": {
   "codemirror_mode": {
    "name": "ipython",
    "version": 3
   },
   "file_extension": ".py",
   "mimetype": "text/x-python",
   "name": "python",
   "nbconvert_exporter": "python",
   "pygments_lexer": "ipython3",
   "version": "3.5.1"
  }
 },
 "nbformat": 4,
 "nbformat_minor": 0
}
